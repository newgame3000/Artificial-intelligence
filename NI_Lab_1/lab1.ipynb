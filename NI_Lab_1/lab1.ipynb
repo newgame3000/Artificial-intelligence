{
 "cells": [
  {
   "cell_type": "markdown",
   "metadata": {
    "id": "gaU16qkGMihd"
   },
   "source": [
    "# Лабораторная работа 1\n",
    "# Персептроны. Процедура обучения Розенблатта"
   ]
  },
  {
   "cell_type": "markdown",
   "metadata": {
    "id": "-BtSsEnFMq3e"
   },
   "source": [
    "### Воронов К.М., М8О-407Б-19"
   ]
  },
  {
   "cell_type": "markdown",
   "metadata": {
    "id": "JfeIOYesPP2N"
   },
   "source": [
    "### Цель работы: исследование свойств персептрона Розенблатта и его применение для решения задачи распознавания образов."
   ]
  },
  {
   "cell_type": "markdown",
   "metadata": {
    "id": "xj-qGyOQPQJZ"
   },
   "source": [
    "Вариант 19"
   ]
  },
  {
   "cell_type": "code",
   "execution_count": 1,
   "metadata": {
    "id": "U6kJ7sZeUQT-"
   },
   "outputs": [],
   "source": [
    "import keras\n",
    "import tensorflow as tf\n",
    "from keras.layers import *\n",
    "import matplotlib.pyplot as plt\n",
    "import numpy as np\n",
    "import pylab"
   ]
  },
  {
   "cell_type": "code",
   "execution_count": 2,
   "metadata": {
    "colab": {
     "base_uri": "https://localhost:8080/"
    },
    "id": "zTdZecNasp3J",
    "outputId": "8cc045e4-7adb-4c5b-8fe9-ffa1df53d6d3"
   },
   "outputs": [
    {
     "name": "stdout",
     "output_type": "stream",
     "text": [
      "Looking in indexes: https://pypi.org/simple, https://us-python.pkg.dev/colab-wheels/public/simple/\n",
      "Requirement already satisfied: matplotlib in /usr/local/lib/python3.7/dist-packages (3.5.3)\n",
      "Requirement already satisfied: packaging>=20.0 in /usr/local/lib/python3.7/dist-packages (from matplotlib) (21.3)\n",
      "Requirement already satisfied: cycler>=0.10 in /usr/local/lib/python3.7/dist-packages (from matplotlib) (0.11.0)\n",
      "Requirement already satisfied: pillow>=6.2.0 in /usr/local/lib/python3.7/dist-packages (from matplotlib) (7.1.2)\n",
      "Requirement already satisfied: kiwisolver>=1.0.1 in /usr/local/lib/python3.7/dist-packages (from matplotlib) (1.4.4)\n",
      "Requirement already satisfied: numpy>=1.17 in /usr/local/lib/python3.7/dist-packages (from matplotlib) (1.21.6)\n",
      "Requirement already satisfied: fonttools>=4.22.0 in /usr/local/lib/python3.7/dist-packages (from matplotlib) (4.37.3)\n",
      "Requirement already satisfied: python-dateutil>=2.7 in /usr/local/lib/python3.7/dist-packages (from matplotlib) (2.8.2)\n",
      "Requirement already satisfied: pyparsing>=2.2.1 in /usr/local/lib/python3.7/dist-packages (from matplotlib) (3.0.9)\n",
      "Requirement already satisfied: typing-extensions in /usr/local/lib/python3.7/dist-packages (from kiwisolver>=1.0.1->matplotlib) (4.1.1)\n",
      "Requirement already satisfied: six>=1.5 in /usr/local/lib/python3.7/dist-packages (from python-dateutil>=2.7->matplotlib) (1.15.0)\n"
     ]
    }
   ],
   "source": [
    "!pip install matplotlib --upgrade"
   ]
  },
  {
   "cell_type": "code",
   "execution_count": 3,
   "metadata": {
    "id": "y01c3RFZa4P9"
   },
   "outputs": [],
   "source": [
    "xy = np.array([[1.9, 0.8], [3.1, 3.7], [4.8, -5], [3.6, 1.1], [4.8, 0.2], [-0.3, 3]])\n",
    "labels = np.array([1, 1, 0 ,0 , 0, 1])"
   ]
  },
  {
   "cell_type": "code",
   "execution_count": 4,
   "metadata": {
    "id": "jJKDOeaEkMhp"
   },
   "outputs": [],
   "source": [
    "def draw2cl(xy, drawgr, model_weights = 0, end = 0, start = 0):\n",
    "    fig, ax = pylab.subplots(1, 1)\n",
    "    colors = ['r' if l > 0 else 'b' for l in labels]\n",
    "    ax.scatter(xy[:, 0], xy[:, 1], marker = 'o', c = colors, s = 50, alpha = 0.8)\n",
    "\n",
    "    if drawgr:\n",
    "        y1 = (-model_weights[1][0] - model_weights[0][0][0] * start) / model_weights[0][1][0]\n",
    "        y2 = (-model_weights[1][0] - model_weights[0][0][0] * end) / model_weights[0][1][0]\n",
    "        plt.axline((start,  y1), (end, y2), c = 'g')\n",
    "\n",
    "    fig.show()"
   ]
  },
  {
   "cell_type": "code",
   "execution_count": 5,
   "metadata": {
    "colab": {
     "base_uri": "https://localhost:8080/",
     "height": 266
    },
    "id": "IqCtcBXuTc46",
    "outputId": "4bc83f65-1dbf-465d-8ab5-5257518b51a2"
   },
   "outputs": [
    {
     "data": {
      "image/png": "[encoded data removed]",
      "text/plain": [
       "<Figure size 432x288 with 1 Axes>"
      ]
     },
     "metadata": {
      "needs_background": "light"
     },
     "output_type": "display_data"
    }
   ],
   "source": [
    "draw2cl(xy, False)"
   ]
  },
  {
   "cell_type": "code",
   "execution_count": 6,
   "metadata": {
    "colab": {
     "base_uri": "https://localhost:8080/",
     "height": 633
    },
    "id": "Bb42QZC5UWgm",
    "outputId": "ea39dcd2-6209-4e3e-c2c2-d6db6d4d1f62"
   },
   "outputs": [
    {
     "name": "stdout",
     "output_type": "stream",
     "text": [
      "Epoch 1/10\n",
      "6/6 [==============================] - 0s 2ms/step - loss: 0.3596 - accuracy: 0.5000\n",
      "Epoch 2/10\n",
      "6/6 [==============================] - 0s 2ms/step - loss: 0.1213 - accuracy: 0.8333\n",
      "Epoch 3/10\n",
      "6/6 [==============================] - 0s 3ms/step - loss: 0.1082 - accuracy: 0.8333\n",
      "Epoch 4/10\n",
      "6/6 [==============================] - 0s 2ms/step - loss: 0.1045 - accuracy: 0.8333\n",
      "Epoch 5/10\n",
      "6/6 [==============================] - 0s 3ms/step - loss: 0.0468 - accuracy: 0.8333\n",
      "Epoch 6/10\n",
      "6/6 [==============================] - 0s 2ms/step - loss: 0.1135 - accuracy: 0.8333\n",
      "Epoch 7/10\n",
      "6/6 [==============================] - 0s 2ms/step - loss: 0.0631 - accuracy: 0.8333\n",
      "Epoch 8/10\n",
      "6/6 [==============================] - 0s 2ms/step - loss: 0.0328 - accuracy: 1.0000\n",
      "Epoch 9/10\n",
      "6/6 [==============================] - 0s 2ms/step - loss: 0.0448 - accuracy: 1.0000\n",
      "Epoch 10/10\n",
      "6/6 [==============================] - 0s 2ms/step - loss: 0.0374 - accuracy: 1.0000\n"
     ]
    },
    {
     "data": {
      "image/png": "[encoded data removed]",
      "text/plain": [
       "<Figure size 432x288 with 1 Axes>"
      ]
     },
     "metadata": {
      "needs_background": "light"
     },
     "output_type": "display_data"
    }
   ],
   "source": [
    "model = keras.models.Sequential()\n",
    "\n",
    "model.add(Dense(1,  input_dim = 2,  activation = \"sigmoid\",  kernel_initializer = keras.initializers.RandomNormal(stddev=0.01), bias_initializer = keras.initializers.Zeros()))\n",
    "model.compile(tf.keras.optimizers.Adam(0.3), 'mse', ['accuracy'])\n",
    "\n",
    "model.fit(xy, labels, batch_size = 1, epochs = 10)\n",
    "\n",
    "draw2cl(xy, True, model.get_weights(), 7)"
   ]
  },
  {
   "cell_type": "code",
   "execution_count": 7,
   "metadata": {
    "colab": {
     "base_uri": "https://localhost:8080/",
     "height": 632
    },
    "id": "QRBDScO6XnpZ",
    "outputId": "0f32ffb1-2d61-4486-cfcf-d232a80da101"
   },
   "outputs": [
    {
     "name": "stdout",
     "output_type": "stream",
     "text": [
      "Epoch 1/10\n",
      "6/6 [==============================] - 0s 3ms/step - loss: 0.9509 - accuracy: 0.3333\n",
      "Epoch 2/10\n",
      "6/6 [==============================] - 0s 2ms/step - loss: 0.4096 - accuracy: 0.8333\n",
      "Epoch 3/10\n",
      "6/6 [==============================] - 0s 2ms/step - loss: 0.1228 - accuracy: 1.0000\n",
      "Epoch 4/10\n",
      "6/6 [==============================] - 0s 2ms/step - loss: 0.1253 - accuracy: 1.0000\n",
      "Epoch 5/10\n",
      "6/6 [==============================] - 0s 3ms/step - loss: 0.1415 - accuracy: 0.8333\n",
      "Epoch 6/10\n",
      "6/6 [==============================] - 0s 3ms/step - loss: 0.1233 - accuracy: 1.0000\n",
      "Epoch 7/10\n",
      "6/6 [==============================] - 0s 2ms/step - loss: 0.1059 - accuracy: 1.0000\n",
      "Epoch 8/10\n",
      "6/6 [==============================] - 0s 3ms/step - loss: 0.0961 - accuracy: 1.0000\n",
      "Epoch 9/10\n",
      "6/6 [==============================] - 0s 2ms/step - loss: 0.0858 - accuracy: 1.0000\n",
      "Epoch 10/10\n",
      "6/6 [==============================] - 0s 2ms/step - loss: 0.0862 - accuracy: 1.0000\n"
     ]
    },
    {
     "data": {
      "image/png": "[encoded data removed]",
      "text/plain": [
       "<Figure size 432x288 with 1 Axes>"
      ]
     },
     "metadata": {
      "needs_background": "light"
     },
     "output_type": "display_data"
    }
   ],
   "source": [
    "model = keras.models.Sequential()\n",
    "\n",
    "model.add(Dense(1,  input_dim = 2,  activation = \"sigmoid\",  kernel_initializer = keras.initializers.RandomNormal(stddev=0.01), bias_initializer = keras.initializers.Zeros()))\n",
    "model.compile(tf.keras.optimizers.Adam(0.5), 'binary_crossentropy', ['accuracy'])\n",
    "\n",
    "model.fit(xy, labels, batch_size = 1, epochs = 10)\n",
    "\n",
    "draw2cl(xy, True, model.get_weights(), 7)"
   ]
  },
  {
   "cell_type": "code",
   "execution_count": 8,
   "metadata": {
    "id": "ODayMYThbYbg"
   },
   "outputs": [],
   "source": [
    "xy = np.array([[-4, 1.5], [-0.1, 2.7],[2.1, 4], [3.9, -1.7], [1.9, -3.1], [-4.7, 2.4], [0, -0.3], [4, 1]])\n",
    "labels = np.array([[0, 0], [0, 1], [0, 1], [1, 1], [1, 1], [0, 0], [0, 1], [1, 1]])"
   ]
  },
  {
   "cell_type": "code",
   "execution_count": 9,
   "metadata": {
    "id": "df4-an8EIOfR"
   },
   "outputs": [],
   "source": [
    "def draw4cl(xy, drawgr, model_weights = 0, end1 = 0, start1 = 0, end2 = 0, start2 = 0):\n",
    "    fig, ax = pylab.subplots(1, 1)\n",
    "    colors = [0] * len(labels)\n",
    "\n",
    "    for i, l in enumerate(labels):\n",
    "        h = l[0] + 2 * l[1]\n",
    "        if h == 0:\n",
    "            colors[i] = 'r'\n",
    "        if h == 1:\n",
    "            colors[i] = 'b'\n",
    "        if h == 2:\n",
    "            colors[i] = 'y'\n",
    "        if h == 3:\n",
    "            colors[i] = 'm'\n",
    "\n",
    "    ax.scatter(xy[:, 0], xy[:, 1], marker = 'o', c = colors, s = 50, alpha = 0.8)\n",
    "\n",
    "    if drawgr:\n",
    "        y1 = (-model_weights[1][0] - model_weights[0][0][0] * start1) / model_weights[0][1][0]\n",
    "        y2 = (-model_weights[1][0] - model_weights[0][0][0] * end1) / model_weights[0][1][0]\n",
    "        y3 = (-model_weights[1][0] - model_weights[0][0][1] * start2) / model_weights[0][1][1]\n",
    "        y4 = (-model_weights[1][1] - model_weights[0][0][1] * end2) / model_weights[0][1][1]\n",
    "        plt.axline((start1,  y1), (end1, y2), c = 'g')\n",
    "        plt.axline((start2,  y3), (end2, y4), c = 'g')\n",
    "\n",
    "    fig.show()"
   ]
  },
  {
   "cell_type": "code",
   "execution_count": 10,
   "metadata": {
    "colab": {
     "base_uri": "https://localhost:8080/",
     "height": 265
    },
    "id": "Kg2r1RE3djHa",
    "outputId": "289b2e0a-08b4-4a64-beba-9c79944302b0"
   },
   "outputs": [
    {
     "data": {
      "image/png": "[encoded data removed]",
      "text/plain": [
       "<Figure size 432x288 with 1 Axes>"
      ]
     },
     "metadata": {
      "needs_background": "light"
     },
     "output_type": "display_data"
    }
   ],
   "source": [
    "draw4cl(xy, False)"
   ]
  },
  {
   "cell_type": "code",
   "execution_count": 11,
   "metadata": {
    "id": "x6Ch326JKtsH"
   },
   "outputs": [],
   "source": [
    "def myaccuracy(labels, pred):\n",
    "    pred = tf.round(pred)\n",
    "    correct = 0\n",
    "    \n",
    "    for i in range(len(labels)):\n",
    "        if (tf.equal(tf.cast(pred[i][0], tf.int32), tf.cast(labels[i][0], tf.int32)) and tf.equal(tf.cast(pred[i][1], tf.int32), tf.cast(labels[i][1], tf.int32))):\n",
    "           correct += 1\n",
    "\n",
    "    return correct / len(labels)"
   ]
  },
  {
   "cell_type": "code",
   "execution_count": 22,
   "metadata": {
    "colab": {
     "base_uri": "https://localhost:8080/",
     "height": 632
    },
    "id": "vl-5r9Jrdp26",
    "outputId": "be2eeb18-3b40-43f8-8e24-d60fda81d9cf"
   },
   "outputs": [
    {
     "name": "stdout",
     "output_type": "stream",
     "text": [
      "Epoch 1/10\n",
      "8/8 [==============================] - 0s 2ms/step - loss: 0.2047 - myaccuracy: 0.5000\n",
      "Epoch 2/10\n",
      "8/8 [==============================] - 0s 2ms/step - loss: 0.0304 - myaccuracy: 0.8750\n",
      "Epoch 3/10\n",
      "8/8 [==============================] - 0s 2ms/step - loss: 6.1644e-04 - myaccuracy: 1.0000\n",
      "Epoch 4/10\n",
      "8/8 [==============================] - 0s 2ms/step - loss: 4.4779e-04 - myaccuracy: 1.0000\n",
      "Epoch 5/10\n",
      "8/8 [==============================] - 0s 2ms/step - loss: 3.3500e-04 - myaccuracy: 1.0000\n",
      "Epoch 6/10\n",
      "8/8 [==============================] - 0s 2ms/step - loss: 2.2948e-04 - myaccuracy: 1.0000\n",
      "Epoch 7/10\n",
      "8/8 [==============================] - 0s 2ms/step - loss: 1.6445e-04 - myaccuracy: 1.0000\n",
      "Epoch 8/10\n",
      "8/8 [==============================] - 0s 2ms/step - loss: 1.4993e-04 - myaccuracy: 1.0000\n",
      "Epoch 9/10\n",
      "8/8 [==============================] - 0s 2ms/step - loss: 1.3867e-04 - myaccuracy: 1.0000\n",
      "Epoch 10/10\n",
      "8/8 [==============================] - 0s 2ms/step - loss: 1.2705e-04 - myaccuracy: 1.0000\n"
     ]
    },
    {
     "data": {
      "image/png": "[encoded data removed]",
      "text/plain": [
       "<Figure size 432x288 with 1 Axes>"
      ]
     },
     "metadata": {
      "needs_background": "light"
     },
     "output_type": "display_data"
    }
   ],
   "source": [
    "model = keras.models.Sequential()\n",
    "\n",
    "model.add(Dense(2,  input_dim = 2,  activation = \"sigmoid\",  kernel_initializer=keras.initializers.RandomNormal(stddev = 0.01), bias_initializer = keras.initializers.Zeros()))\n",
    "model.compile(tf.keras.optimizers.Adam(0.5), 'mse', [myaccuracy])\n",
    "\n",
    "model.fit(xy, labels, batch_size = 1, epochs = 10)\n",
    "\n",
    "draw4cl(xy, True, model.get_weights(), 4, -4, -2, -1)"
   ]
  },
  {
   "cell_type": "markdown",
   "metadata": {
    "id": "oTV2K-oERmrw"
   },
   "source": [
    "# Выводы\n",
    "Выполнив данную лабораторную работу, я вспомнил устройство и принцип работы персептрона, основы программирования с использованием tenserflow, а также обучил нейросети классифицировать точки. "
   ]
  }
 ],
 "metadata": {
  "colab": {
   "collapsed_sections": [],
   "provenance": []
  },
  "kernelspec": {
   "display_name": "Python 3 (ipykernel)",
   "language": "python",
   "name": "python3"
  },
  "language_info": {
   "codemirror_mode": {
    "name": "ipython",
    "version": 3
   },
   "file_extension": ".py",
   "mimetype": "text/x-python",
   "name": "python",
   "nbconvert_exporter": "python",
   "pygments_lexer": "ipython3",
   "version": "3.8.10"
  }
 },
 "nbformat": 4,
 "nbformat_minor": 4
}
