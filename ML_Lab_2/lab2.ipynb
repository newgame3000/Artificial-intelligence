{
 "cells": [
  {
   "cell_type": "code",
   "execution_count": 1,
   "id": "1419ade8-3a58-4acf-9fcf-9db5bdf52efa",
   "metadata": {},
   "outputs": [],
   "source": [
    "import pandas as pd\n",
    "import numpy as np\n",
    "import seaborn as sns\n",
    "import matplotlib.pyplot as plt\n",
    "import math\n",
    "import collections\n",
    "import sklearn\n",
    "import pickle"
   ]
  },
  {
   "cell_type": "markdown",
   "id": "e0a747bc-a963-439d-aec6-43adfb75bc35",
   "metadata": {},
   "source": [
    "Загрузка датасета"
   ]
  },
  {
   "cell_type": "code",
   "execution_count": 2,
   "id": "892f2996-d802-4199-8944-0fd41f62b232",
   "metadata": {},
   "outputs": [],
   "source": [
    "data = pd.read_csv('heart.csv')\n",
    "data[\"Sex\"] = [0 if i == \"M\" else 1 for i in data[\"Sex\"]]\n",
    "data[\"ChestPainType\"] = [0 if i == \"TA\" else 1 if i == \"ATA\" else 2 if i == \"NAP\" else 3 for i in data[\"ChestPainType\"]]\n",
    "data[\"RestingECG\"] = [0 if i == \"Normal\" else 1 if i == \"ST\" else 2 for i in data[\"RestingECG\"]]\n",
    "data[\"ExerciseAngina\"] = [0 if i == \"N\" else 1 for i in data[\"ExerciseAngina\"]]\n",
    "data[\"ST_Slope\"] = [0 if i == \"Down\" else 1 if i == \"Flat\" else 2 for i in data[\"ST_Slope\"]]"
   ]
  },
  {
   "cell_type": "code",
   "execution_count": 3,
   "id": "276a77e8-d743-40a6-a7f2-b301dfb3f519",
   "metadata": {},
   "outputs": [],
   "source": [
    "a = data[(data['Cholesterol'] != 0) & (data['HeartDisease'] == 1)]['Cholesterol'].mean()\n",
    "b = data[(data['Cholesterol'] != 0) & (data['HeartDisease'] == 0)]['Cholesterol'].mean()\n",
    "\n",
    "\n",
    "for i in range(data.shape[0]):\n",
    "    if data['Cholesterol'][i] == 0 and data['HeartDisease'][i] == 1:\n",
    "        data.at[i, 'Cholesterol'] = a\n",
    "    if data['Cholesterol'][i] == 0 and data['HeartDisease'][i] == 0:\n",
    "        data.at[i, 'Cholesterol'] = b"
   ]
  },
  {
   "cell_type": "code",
   "execution_count": 4,
   "id": "b93984d2-8e85-46c7-8b74-bba54f1b7732",
   "metadata": {},
   "outputs": [
    {
     "data": {
      "text/html": [
       "<div>\n",
       "<style scoped>\n",
       "    .dataframe tbody tr th:only-of-type {\n",
       "        vertical-align: middle;\n",
       "    }\n",
       "\n",
       "    .dataframe tbody tr th {\n",
       "        vertical-align: top;\n",
       "    }\n",
       "\n",
       "    .dataframe thead th {\n",
       "        text-align: right;\n",
       "    }\n",
       "</style>\n",
       "<table border=\"1\" class=\"dataframe\">\n",
       "  <thead>\n",
       "    <tr style=\"text-align: right;\">\n",
       "      <th></th>\n",
       "      <th>Age</th>\n",
       "      <th>Sex</th>\n",
       "      <th>ChestPainType</th>\n",
       "      <th>RestingBP</th>\n",
       "      <th>Cholesterol</th>\n",
       "      <th>FastingBS</th>\n",
       "      <th>RestingECG</th>\n",
       "      <th>MaxHR</th>\n",
       "      <th>ExerciseAngina</th>\n",
       "      <th>Oldpeak</th>\n",
       "      <th>ST_Slope</th>\n",
       "      <th>HeartDisease</th>\n",
       "    </tr>\n",
       "  </thead>\n",
       "  <tbody>\n",
       "    <tr>\n",
       "      <th>0</th>\n",
       "      <td>40</td>\n",
       "      <td>0</td>\n",
       "      <td>1</td>\n",
       "      <td>140</td>\n",
       "      <td>289.0</td>\n",
       "      <td>0</td>\n",
       "      <td>0</td>\n",
       "      <td>172</td>\n",
       "      <td>0</td>\n",
       "      <td>0.0</td>\n",
       "      <td>2</td>\n",
       "      <td>0</td>\n",
       "    </tr>\n",
       "    <tr>\n",
       "      <th>1</th>\n",
       "      <td>49</td>\n",
       "      <td>1</td>\n",
       "      <td>2</td>\n",
       "      <td>160</td>\n",
       "      <td>180.0</td>\n",
       "      <td>0</td>\n",
       "      <td>0</td>\n",
       "      <td>156</td>\n",
       "      <td>0</td>\n",
       "      <td>1.0</td>\n",
       "      <td>1</td>\n",
       "      <td>1</td>\n",
       "    </tr>\n",
       "    <tr>\n",
       "      <th>2</th>\n",
       "      <td>37</td>\n",
       "      <td>0</td>\n",
       "      <td>1</td>\n",
       "      <td>130</td>\n",
       "      <td>283.0</td>\n",
       "      <td>0</td>\n",
       "      <td>1</td>\n",
       "      <td>98</td>\n",
       "      <td>0</td>\n",
       "      <td>0.0</td>\n",
       "      <td>2</td>\n",
       "      <td>0</td>\n",
       "    </tr>\n",
       "    <tr>\n",
       "      <th>3</th>\n",
       "      <td>48</td>\n",
       "      <td>1</td>\n",
       "      <td>3</td>\n",
       "      <td>138</td>\n",
       "      <td>214.0</td>\n",
       "      <td>0</td>\n",
       "      <td>0</td>\n",
       "      <td>108</td>\n",
       "      <td>1</td>\n",
       "      <td>1.5</td>\n",
       "      <td>1</td>\n",
       "      <td>1</td>\n",
       "    </tr>\n",
       "    <tr>\n",
       "      <th>4</th>\n",
       "      <td>54</td>\n",
       "      <td>0</td>\n",
       "      <td>2</td>\n",
       "      <td>150</td>\n",
       "      <td>195.0</td>\n",
       "      <td>0</td>\n",
       "      <td>0</td>\n",
       "      <td>122</td>\n",
       "      <td>0</td>\n",
       "      <td>0.0</td>\n",
       "      <td>2</td>\n",
       "      <td>0</td>\n",
       "    </tr>\n",
       "    <tr>\n",
       "      <th>...</th>\n",
       "      <td>...</td>\n",
       "      <td>...</td>\n",
       "      <td>...</td>\n",
       "      <td>...</td>\n",
       "      <td>...</td>\n",
       "      <td>...</td>\n",
       "      <td>...</td>\n",
       "      <td>...</td>\n",
       "      <td>...</td>\n",
       "      <td>...</td>\n",
       "      <td>...</td>\n",
       "      <td>...</td>\n",
       "    </tr>\n",
       "    <tr>\n",
       "      <th>913</th>\n",
       "      <td>45</td>\n",
       "      <td>0</td>\n",
       "      <td>0</td>\n",
       "      <td>110</td>\n",
       "      <td>264.0</td>\n",
       "      <td>0</td>\n",
       "      <td>0</td>\n",
       "      <td>132</td>\n",
       "      <td>0</td>\n",
       "      <td>1.2</td>\n",
       "      <td>1</td>\n",
       "      <td>1</td>\n",
       "    </tr>\n",
       "    <tr>\n",
       "      <th>914</th>\n",
       "      <td>68</td>\n",
       "      <td>0</td>\n",
       "      <td>3</td>\n",
       "      <td>144</td>\n",
       "      <td>193.0</td>\n",
       "      <td>1</td>\n",
       "      <td>0</td>\n",
       "      <td>141</td>\n",
       "      <td>0</td>\n",
       "      <td>3.4</td>\n",
       "      <td>1</td>\n",
       "      <td>1</td>\n",
       "    </tr>\n",
       "    <tr>\n",
       "      <th>915</th>\n",
       "      <td>57</td>\n",
       "      <td>0</td>\n",
       "      <td>3</td>\n",
       "      <td>130</td>\n",
       "      <td>131.0</td>\n",
       "      <td>0</td>\n",
       "      <td>0</td>\n",
       "      <td>115</td>\n",
       "      <td>1</td>\n",
       "      <td>1.2</td>\n",
       "      <td>1</td>\n",
       "      <td>1</td>\n",
       "    </tr>\n",
       "    <tr>\n",
       "      <th>916</th>\n",
       "      <td>57</td>\n",
       "      <td>1</td>\n",
       "      <td>1</td>\n",
       "      <td>130</td>\n",
       "      <td>236.0</td>\n",
       "      <td>0</td>\n",
       "      <td>2</td>\n",
       "      <td>174</td>\n",
       "      <td>0</td>\n",
       "      <td>0.0</td>\n",
       "      <td>1</td>\n",
       "      <td>1</td>\n",
       "    </tr>\n",
       "    <tr>\n",
       "      <th>917</th>\n",
       "      <td>38</td>\n",
       "      <td>0</td>\n",
       "      <td>2</td>\n",
       "      <td>138</td>\n",
       "      <td>175.0</td>\n",
       "      <td>0</td>\n",
       "      <td>0</td>\n",
       "      <td>173</td>\n",
       "      <td>0</td>\n",
       "      <td>0.0</td>\n",
       "      <td>2</td>\n",
       "      <td>0</td>\n",
       "    </tr>\n",
       "  </tbody>\n",
       "</table>\n",
       "<p>918 rows × 12 columns</p>\n",
       "</div>"
      ],
      "text/plain": [
       "     Age  Sex  ChestPainType  RestingBP  Cholesterol  FastingBS  RestingECG  \\\n",
       "0     40    0              1        140        289.0          0           0   \n",
       "1     49    1              2        160        180.0          0           0   \n",
       "2     37    0              1        130        283.0          0           1   \n",
       "3     48    1              3        138        214.0          0           0   \n",
       "4     54    0              2        150        195.0          0           0   \n",
       "..   ...  ...            ...        ...          ...        ...         ...   \n",
       "913   45    0              0        110        264.0          0           0   \n",
       "914   68    0              3        144        193.0          1           0   \n",
       "915   57    0              3        130        131.0          0           0   \n",
       "916   57    1              1        130        236.0          0           2   \n",
       "917   38    0              2        138        175.0          0           0   \n",
       "\n",
       "     MaxHR  ExerciseAngina  Oldpeak  ST_Slope  HeartDisease  \n",
       "0      172               0      0.0         2             0  \n",
       "1      156               0      1.0         1             1  \n",
       "2       98               0      0.0         2             0  \n",
       "3      108               1      1.5         1             1  \n",
       "4      122               0      0.0         2             0  \n",
       "..     ...             ...      ...       ...           ...  \n",
       "913    132               0      1.2         1             1  \n",
       "914    141               0      3.4         1             1  \n",
       "915    115               1      1.2         1             1  \n",
       "916    174               0      0.0         1             1  \n",
       "917    173               0      0.0         2             0  \n",
       "\n",
       "[918 rows x 12 columns]"
      ]
     },
     "execution_count": 4,
     "metadata": {},
     "output_type": "execute_result"
    }
   ],
   "source": [
    "data.drop_duplicates(keep='last')"
   ]
  },
  {
   "cell_type": "code",
   "execution_count": 5,
   "id": "851dfe31-441f-44be-8db6-fabf97288e0b",
   "metadata": {},
   "outputs": [],
   "source": [
    "from sklearn.model_selection import train_test_split\n",
    "x = data.drop(columns='HeartDisease')\n",
    "y = data['HeartDisease']\n",
    "x_train, x_test, train_labels, test_labels = train_test_split(x.to_numpy(), y.to_numpy(), test_size = 0.2, random_state = 14)"
   ]
  },
  {
   "cell_type": "markdown",
   "id": "f847326b-6de6-4510-b062-a247e763bf16",
   "metadata": {},
   "source": [
    "Дерево решений"
   ]
  },
  {
   "cell_type": "code",
   "execution_count": 6,
   "id": "b132394f-ff8c-4300-a78f-1ae1ed6fdd9b",
   "metadata": {},
   "outputs": [],
   "source": [
    "from sklearn.base import BaseEstimator, ClassifierMixin\n",
    "\n",
    "\n",
    "class DecisionTree(BaseEstimator, ClassifierMixin):\n",
    "    \n",
    "    def entropy(self, x):\n",
    "        return np.sum(-x * np.log2(x + (np.abs(x) < 1e-12)))\n",
    "    \n",
    "    def __init__(self, leaf_size = 1, depth = 4, features = None):\n",
    "        self.leaf_size = leaf_size\n",
    "        self.depth = depth\n",
    "        self.features = features\n",
    "    \n",
    "    class Node:\n",
    "        def __init__(self):\n",
    "            self.left = None\n",
    "            self.right = None\n",
    "            self.value = None\n",
    "            self.number = None\n",
    "        \n",
    "    def fit(self, data, labels):\n",
    "        self.root = self.Node()\n",
    "        self.grow_tree(self.root, data, labels, np.arange(len(labels)), 0)\n",
    "        return self\n",
    "    \n",
    "    #Считаем вероятность единички\n",
    "    def ans(self, y):\n",
    "        k = 0\n",
    "        \n",
    "        for i in range(len(y)):\n",
    "            if y[i] == 1:\n",
    "                k += 1\n",
    "        return k / len(y)\n",
    "        \n",
    "    \n",
    "    def grow_tree(self, node, data, labels, idx, depth):\n",
    "        \n",
    "        x = data[idx]\n",
    "        y = labels[idx]\n",
    "        \n",
    "        if (not self.depth is None) and (self.depth < depth):            \n",
    "            node.value = self.ans(y)\n",
    "            return\n",
    "        \n",
    "        if self.leaf_size >= len(x):\n",
    "            node.value = self.ans(y)\n",
    "            return\n",
    "        \n",
    "        if (len(np.unique(y)) == 1):\n",
    "            node.value = self.ans(y)\n",
    "            return\n",
    "        \n",
    "        maximum = -1\n",
    "        split_id = 0\n",
    "        leftidx = np.array([])\n",
    "        rightidx = np.array([])\n",
    "        index = 0\n",
    "        \n",
    "        for i in (self.features if self.features is not None else range(data.shape[1])):\n",
    "            left = 1\n",
    "            sortid = x[:, i].argsort()\n",
    "            left_classes = np.zeros(2)\n",
    "            left_classes[y[sortid[0]]] = 1\n",
    "            \n",
    "            classes = np.zeros(2)\n",
    "            for j in range(len(sortid)):\n",
    "                classes[y[sortid[j]]] += 1\n",
    "            \n",
    "            xm = self.entropy(classes / len(x))\n",
    "            \n",
    "            lenxm = len(sortid)\n",
    "            \n",
    "            right_classes = np.zeros(2)\n",
    "            \n",
    "            for j in range(left, len(sortid)):\n",
    "                right_classes[y[sortid[j]]] += 1\n",
    "            \n",
    "            while left < len(x):\n",
    "                \n",
    "                while left < len(x) and abs(x[sortid[left-1]][i] - x[sortid[left-2]][i]) < 1e-6:\n",
    "                    left += 1\n",
    "                    left_classes[y[sortid[left - 1]]] += 1\n",
    "                    right_classes[y[sortid[left - 1]]] -= 1\n",
    "                \n",
    "                if left == len(x):\n",
    "                    break\n",
    "                \n",
    "                p = left_classes / left\n",
    "                xl = self.entropy(p)\n",
    "                p = right_classes / (len(x) - left)\n",
    "                xr = self.entropy(p)\n",
    "                \n",
    "                lenxl = left\n",
    "                lenxr = len(x) - left\n",
    "                \n",
    "                \n",
    "                if maximum < xm * lenxm - lenxl * xl - lenxr * xr:\n",
    "                    maximum = xm * lenxm - lenxl * xl - lenxr * xr\n",
    "                    split_id = left - 1\n",
    "                    leftidx = sortid[0:left]\n",
    "                    rightidx = sortid[left:]\n",
    "                    index = i\n",
    "                \n",
    "                left += 1\n",
    "                \n",
    "                left_classes[y[sortid[left - 1]]] += 1\n",
    "                right_classes[y[sortid[left - 1]]] -= 1   \n",
    "                \n",
    "                \n",
    "        if len(leftidx) == 0 or  len(rightidx) == 0:\n",
    "            node.value = self.ans(y)\n",
    "            return\n",
    "        \n",
    "        node.number = index\n",
    "        node.value = x[sortid[split_id]][index]\n",
    "        node.left = self.Node()\n",
    "        node.right = self.Node()\n",
    "        \n",
    "        self.grow_tree(node.left, x, y, leftidx , depth + 1)\n",
    "        self.grow_tree(node.right, x, y, rightidx , depth + 1)\n",
    "        \n",
    "\n",
    "    def print_tree(node, d = 0):\n",
    "        if node is None:\n",
    "            return\n",
    "        print(' '*4*d, node.number, node.value)\n",
    "        print_tree(node.left, d+1)\n",
    "        print_tree(node.right, d+1)\n",
    "    \n",
    "    def predict_proba(self, data):\n",
    "        res = np.ndarray((data.shape[0], 2))\n",
    "        for i, st in enumerate(data):\n",
    "            node = self.root\n",
    "            while not node.number is None:\n",
    "                if st[node.number] > node.value:\n",
    "                    node = node.right\n",
    "                else:\n",
    "                    node = node.left\n",
    "            res[i][1] = node.value\n",
    "            res[i][0] = 1 - node.value\n",
    "        return res\n",
    "    \n",
    "    def predict(self, data):\n",
    "        return np.argmax(self.predict_proba(data), axis=1)"
   ]
  },
  {
   "cell_type": "code",
   "execution_count": 7,
   "id": "e8af5fa6-fa7e-4292-8bc6-a1b90ea505e5",
   "metadata": {},
   "outputs": [],
   "source": [
    "def Print_scores(test_labels, x_test_predict):\n",
    "    print(f\"Accuracy tests: {accuracy_score(test_labels, x_test_predict)}\")\n",
    "    matrix = confusion_matrix(test_labels, x_test_predict)\n",
    "    disp = ConfusionMatrixDisplay(confusion_matrix = matrix)\n",
    "    disp.plot()\n",
    "    plt.show()\n",
    "    print(f\"Precision tests: {precision_score(test_labels, x_test_predict)}\")\n",
    "    print(f\"Recall tests: {recall_score(test_labels, x_test_predict)}\")\n",
    "    RocCurveDisplay.from_predictions(test_labels, x_test_predict)\n",
    "    plt.show()"
   ]
  },
  {
   "cell_type": "code",
   "execution_count": 8,
   "id": "dec172ae-ab82-4864-8706-efe296f473fb",
   "metadata": {},
   "outputs": [
    {
     "name": "stdout",
     "output_type": "stream",
     "text": [
      "{'depth': 10, 'leaf_size': 8}\n",
      "Accuracy train: 0.6104650079209766\n",
      "Accuracy tests: 0.717391304347826\n"
     ]
    },
    {
     "data": {
      "image/png": "[encoded data removed]",
      "text/plain": [
       "<Figure size 432x288 with 2 Axes>"
      ]
     },
     "metadata": {
      "needs_background": "light"
     },
     "output_type": "display_data"
    },
    {
     "name": "stdout",
     "output_type": "stream",
     "text": [
      "Precision tests: 0.7176470588235294\n",
      "Recall tests: 0.6853932584269663\n"
     ]
    },
    {
     "data": {
      "image/png": "[encoded data removed]",
      "text/plain": [
       "<Figure size 432x288 with 1 Axes>"
      ]
     },
     "metadata": {
      "needs_background": "light"
     },
     "output_type": "display_data"
    }
   ],
   "source": [
    "from sklearn.metrics import confusion_matrix, ConfusionMatrixDisplay\n",
    "from sklearn.metrics import accuracy_score\n",
    "from sklearn.metrics import precision_score\n",
    "from sklearn.metrics import recall_score\n",
    "from sklearn.metrics import RocCurveDisplay\n",
    "from sklearn.model_selection import GridSearchCV\n",
    "\n",
    "test1 = [1, 4, 8, 15]\n",
    "test2 = [10, 20, 60, None]\n",
    "    \n",
    "dt = DecisionTree()\n",
    "\n",
    "gcv = GridSearchCV(estimator = dt, param_grid={'leaf_size': test1, 'depth': test2})\n",
    "gcv.fit(x_train, train_labels)\n",
    "print(gcv.best_params_)\n",
    "print(f\"Accuracy train: {gcv.best_score_}\")\n",
    "x_test_predict = gcv.best_estimator_.predict(x_test)\n",
    "Print_scores(test_labels, x_test_predict)"
   ]
  },
  {
   "cell_type": "code",
   "execution_count": 14,
   "id": "28de9883-5d17-4e27-9a92-2cabfdbe6376",
   "metadata": {},
   "outputs": [
    {
     "data": {
      "text/plain": [
       "{'ccp_alpha': 0.0,\n",
       " 'class_weight': None,\n",
       " 'criterion': 'gini',\n",
       " 'max_depth': None,\n",
       " 'max_features': None,\n",
       " 'max_leaf_nodes': None,\n",
       " 'min_impurity_decrease': 0.0,\n",
       " 'min_samples_leaf': 1,\n",
       " 'min_samples_split': 2,\n",
       " 'min_weight_fraction_leaf': 0.0,\n",
       " 'random_state': None,\n",
       " 'splitter': 'best'}"
      ]
     },
     "execution_count": 14,
     "metadata": {},
     "output_type": "execute_result"
    }
   ],
   "source": [
    "from sklearn import tree\n",
    "clf = tree.DecisionTreeClassifier()\n",
    "\n",
    "clf.get_params()"
   ]
  },
  {
   "cell_type": "code",
   "execution_count": 16,
   "id": "ccd6667c-03cb-4dbf-a192-0cb34af614eb",
   "metadata": {},
   "outputs": [
    {
     "name": "stdout",
     "output_type": "stream",
     "text": [
      "{'max_depth': None, 'min_samples_leaf': 9}\n",
      "Accuracy train: 0.8432858074736744\n",
      "Accuracy tests: 0.7663043478260869\n"
     ]
    },
    {
     "data": {
      "image/png": "[encoded data removed]",
      "text/plain": [
       "<Figure size 432x288 with 2 Axes>"
      ]
     },
     "metadata": {
      "needs_background": "light"
     },
     "output_type": "display_data"
    },
    {
     "name": "stdout",
     "output_type": "stream",
     "text": [
      "Precision tests: 0.75\n",
      "Recall tests: 0.7752808988764045\n"
     ]
    },
    {
     "data": {
      "image/png": "[encoded data removed]",
      "text/plain": [
       "<Figure size 432x288 with 1 Axes>"
      ]
     },
     "metadata": {
      "needs_background": "light"
     },
     "output_type": "display_data"
    }
   ],
   "source": [
    "gcv = GridSearchCV(estimator = clf, param_grid={'min_samples_leaf': test1, 'max_depth': test2})\n",
    "gcv.fit(x_train, train_labels)\n",
    "print(gcv.best_params_)\n",
    "print(f\"Accuracy train: {gcv.best_score_}\")\n",
    "x_test_predict = gcv.best_estimator_.predict(x_test)\n",
    "Print_scores(test_labels, x_test_predict)"
   ]
  },
  {
   "cell_type": "code",
   "execution_count": 9,
   "id": "cca1ccb3-8dc8-42dc-bc76-2af70afa0478",
   "metadata": {},
   "outputs": [],
   "source": [
    "class RandomForest(BaseEstimator, ClassifierMixin):\n",
    "    \n",
    "    def __init__(self, features = 1, leaf_size = 1, depth = None, n_estimators = 10):\n",
    "        self.leaf_size = leaf_size\n",
    "        self.depth = depth\n",
    "        self.features = features\n",
    "        self.n_estimators = n_estimators\n",
    "    \n",
    "    def fit(self, data, labels):\n",
    "        features = np.arange(data.shape[1])\n",
    "        self.estimators = []\n",
    "        indexes = np.arange(len(data))\n",
    "        for i in range(self.n_estimators):\n",
    "            np.random.shuffle(features)\n",
    "            self.estimators.append(DecisionTree(leaf_size = self.leaf_size, depth = self.depth, features = features[:self.features]))\n",
    "            idx = np.random.choice(indexes, (len(data),))\n",
    "            self.estimators[-1].fit(data[idx], labels[idx])\n",
    "        \n",
    "    def predict_proba(self, data):\n",
    "        pred = np.stack([est.predict_proba(data) for est in self.estimators], axis=1)\n",
    "        return pred.mean(axis=1)\n",
    "    \n",
    "    def predict(self, data):\n",
    "        return self.predict_proba(data).argmax(axis=1)\n",
    "    "
   ]
  },
  {
   "cell_type": "code",
   "execution_count": 49,
   "id": "2a16405c-f55e-4c6a-acdd-d37996d4a890",
   "metadata": {},
   "outputs": [
    {
     "name": "stdout",
     "output_type": "stream",
     "text": [
      "{'depth': None, 'features': 3, 'leaf_size': 9, 'n_estimators': 30}\n",
      "Accuracy train: 0.7737675892274718\n",
      "Accuracy tests: 0.7119565217391305\n"
     ]
    },
    {
     "data": {
      "image/png": "[encoded data removed]",
      "text/plain": [
       "<Figure size 432x288 with 2 Axes>"
      ]
     },
     "metadata": {
      "needs_background": "light"
     },
     "output_type": "display_data"
    },
    {
     "name": "stdout",
     "output_type": "stream",
     "text": [
      "Precision tests: 0.6578947368421053\n",
      "Recall tests: 0.8426966292134831\n"
     ]
    },
    {
     "data": {
      "image/png": "[encoded data removed]",
      "text/plain": [
       "<Figure size 432x288 with 1 Axes>"
      ]
     },
     "metadata": {
      "needs_background": "light"
     },
     "output_type": "display_data"
    }
   ],
   "source": [
    "test1 = [3, 9]\n",
    "test2 = [None]\n",
    "test3 = [3]\n",
    "test4 = [10, 20, 30]\n",
    "\n",
    "rf = RandomForest()\n",
    "\n",
    "gcv = GridSearchCV(estimator = rf, param_grid={'leaf_size': test1, 'depth': test2, 'features' : test3, 'n_estimators' : test4})\n",
    "gcv.fit(x_train, train_labels)\n",
    "print(gcv.best_params_)\n",
    "print(f\"Accuracy train: {gcv.best_score_}\")\n",
    "x_test_predict = gcv.best_estimator_.predict(x_test)\n",
    "Print_scores(test_labels, x_test_predict)"
   ]
  },
  {
   "cell_type": "code",
   "execution_count": 10,
   "id": "186e216c-dc1d-4378-bf69-03500b6d40b5",
   "metadata": {},
   "outputs": [
    {
     "data": {
      "text/plain": [
       "{'bootstrap': True,\n",
       " 'ccp_alpha': 0.0,\n",
       " 'class_weight': None,\n",
       " 'criterion': 'gini',\n",
       " 'max_depth': None,\n",
       " 'max_features': 'auto',\n",
       " 'max_leaf_nodes': None,\n",
       " 'max_samples': None,\n",
       " 'min_impurity_decrease': 0.0,\n",
       " 'min_samples_leaf': 1,\n",
       " 'min_samples_split': 2,\n",
       " 'min_weight_fraction_leaf': 0.0,\n",
       " 'n_estimators': 100,\n",
       " 'n_jobs': None,\n",
       " 'oob_score': False,\n",
       " 'random_state': None,\n",
       " 'verbose': 0,\n",
       " 'warm_start': False}"
      ]
     },
     "execution_count": 10,
     "metadata": {},
     "output_type": "execute_result"
    }
   ],
   "source": [
    "from sklearn.ensemble import RandomForestClassifier\n",
    "\n",
    "rf = RandomForestClassifier()\n",
    "\n",
    "rf.get_params()"
   ]
  },
  {
   "cell_type": "code",
   "execution_count": 12,
   "id": "649d205e-11d1-4582-a984-faed88fb85f2",
   "metadata": {},
   "outputs": [
    {
     "name": "stdout",
     "output_type": "stream",
     "text": [
      "{'max_features': None, 'min_samples_leaf': 3, 'n_estimators': 30}\n",
      "Accuracy train: 0.8678501537601342\n",
      "Accuracy tests: 0.8315217391304348\n"
     ]
    },
    {
     "data": {
      "image/png": "[encoded data removed]",
      "text/plain": [
       "<Figure size 432x288 with 2 Axes>"
      ]
     },
     "metadata": {
      "needs_background": "light"
     },
     "output_type": "display_data"
    },
    {
     "name": "stdout",
     "output_type": "stream",
     "text": [
      "Precision tests: 0.7959183673469388\n",
      "Recall tests: 0.8764044943820225\n"
     ]
    },
    {
     "data": {
      "image/png": "[encoded data removed]",
      "text/plain": [
       "<Figure size 432x288 with 1 Axes>"
      ]
     },
     "metadata": {
      "needs_background": "light"
     },
     "output_type": "display_data"
    }
   ],
   "source": [
    "test1 = [3, 9]\n",
    "test2 = [None]\n",
    "test4 = [10, 20, 30]\n",
    "\n",
    "gcv = GridSearchCV(estimator = rf, param_grid={'min_samples_leaf': test1, 'max_features': test2, 'n_estimators' : test4})\n",
    "gcv.fit(x_train, train_labels)\n",
    "print(gcv.best_params_)\n",
    "print(f\"Accuracy train: {gcv.best_score_}\")\n",
    "x_test_predict = gcv.best_estimator_.predict(x_test)\n",
    "Print_scores(test_labels, x_test_predict)"
   ]
  },
  {
   "cell_type": "code",
   "execution_count": 56,
   "id": "1e001b53-804e-4d86-aec3-244f401cb2f2",
   "metadata": {},
   "outputs": [
    {
     "data": {
      "text/plain": [
       "{'ccp_alpha': 0.0,\n",
       " 'criterion': 'friedman_mse',\n",
       " 'init': None,\n",
       " 'learning_rate': 0.1,\n",
       " 'loss': 'deviance',\n",
       " 'max_depth': 3,\n",
       " 'max_features': None,\n",
       " 'max_leaf_nodes': None,\n",
       " 'min_impurity_decrease': 0.0,\n",
       " 'min_samples_leaf': 1,\n",
       " 'min_samples_split': 2,\n",
       " 'min_weight_fraction_leaf': 0.0,\n",
       " 'n_estimators': 100,\n",
       " 'n_iter_no_change': None,\n",
       " 'random_state': None,\n",
       " 'subsample': 1.0,\n",
       " 'tol': 0.0001,\n",
       " 'validation_fraction': 0.1,\n",
       " 'verbose': 0,\n",
       " 'warm_start': False}"
      ]
     },
     "execution_count": 56,
     "metadata": {},
     "output_type": "execute_result"
    }
   ],
   "source": [
    "from sklearn.ensemble import GradientBoostingClassifier\n",
    "\n",
    "gb = GradientBoostingClassifier()\n",
    "\n",
    "gb.get_params()"
   ]
  },
  {
   "cell_type": "code",
   "execution_count": 58,
   "id": "ac84827f-063a-42dc-99b8-b85a1b4e88ca",
   "metadata": {},
   "outputs": [
    {
     "name": "stdout",
     "output_type": "stream",
     "text": [
      "{'learning_rate': 0.1, 'n_estimators': 50}\n",
      "Accuracy train: 0.882816140154692\n",
      "Accuracy tests: 0.8315217391304348\n"
     ]
    },
    {
     "data": {
      "image/png": "[encoded data removed]",
      "text/plain": [
       "<Figure size 432x288 with 2 Axes>"
      ]
     },
     "metadata": {
      "needs_background": "light"
     },
     "output_type": "display_data"
    },
    {
     "name": "stdout",
     "output_type": "stream",
     "text": [
      "Precision tests: 0.7959183673469388\n",
      "Recall tests: 0.8764044943820225\n"
     ]
    },
    {
     "data": {
      "image/png": "[encoded data removed]",
      "text/plain": [
       "<Figure size 432x288 with 1 Axes>"
      ]
     },
     "metadata": {
      "needs_background": "light"
     },
     "output_type": "display_data"
    }
   ],
   "source": [
    "test1 = [0.1, 0.01, 0.001]\n",
    "test2 = [10, 50, 100, 200]\n",
    "\n",
    "\n",
    "gcv = GridSearchCV(estimator = gb, param_grid={'learning_rate': test1, 'n_estimators': test2})\n",
    "gcv.fit(x_train, train_labels)\n",
    "print(gcv.best_params_)\n",
    "print(f\"Accuracy train: {gcv.best_score_}\")\n",
    "x_test_predict = gcv.best_estimator_.predict(x_test)\n",
    "Print_scores(test_labels, x_test_predict)"
   ]
  },
  {
   "cell_type": "code",
   "execution_count": null,
   "id": "103a34bb-89ab-43c2-be79-41a3841c21a6",
   "metadata": {},
   "outputs": [],
   "source": []
  }
 ],
 "metadata": {
  "kernelspec": {
   "display_name": "Python 3 (ipykernel)",
   "language": "python",
   "name": "python3"
  },
  "language_info": {
   "codemirror_mode": {
    "name": "ipython",
    "version": 3
   },
   "file_extension": ".py",
   "mimetype": "text/x-python",
   "name": "python",
   "nbconvert_exporter": "python",
   "pygments_lexer": "ipython3",
   "version": "3.8.10"
  }
 },
 "nbformat": 4,
 "nbformat_minor": 5
}
