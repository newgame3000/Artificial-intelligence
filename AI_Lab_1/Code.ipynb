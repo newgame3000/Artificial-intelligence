{
 "cells": [
  {
   "cell_type": "code",
   "execution_count": 1,
   "metadata": {
    "colab": {
     "base_uri": "https://localhost:8080/"
    },
    "id": "wHDdncU_tuYM",
    "outputId": "043f4b93-8e9b-443e-c116-e72eaa7dd996"
   },
   "outputs": [
    {
     "name": "stdout",
     "output_type": "stream",
     "text": [
      "Collecting git+https://github.com/buguroo/pyknow/\n",
      "  Cloning https://github.com/buguroo/pyknow/ to /tmp/pip-req-build-t7qkqnx8\n",
      "  Running command git clone -q https://github.com/buguroo/pyknow/ /tmp/pip-req-build-t7qkqnx8\n",
      "  Resolved https://github.com/buguroo/pyknow/ to commit 48818336f2e9a126f1964f2d8dc22d37ff800fe8\n",
      "Requirement already satisfied: frozendict==1.2 in /home/engineerxl/anaconda3/lib/python3.9/site-packages (from pyknow==1.7.0) (1.2)\n",
      "Requirement already satisfied: schema==0.6.7 in /home/engineerxl/anaconda3/lib/python3.9/site-packages (from pyknow==1.7.0) (0.6.7)\n"
     ]
    }
   ],
   "source": [
    "import sys\n",
    "\n",
    "!{sys.executable} -m pip install git+https://github.com/buguroo/pyknow/"
   ]
  },
  {
   "cell_type": "code",
   "execution_count": 2,
   "metadata": {
    "id": "qTVPeHW6aQN_"
   },
   "outputs": [],
   "source": [
    "from pyknow import *\n",
    "\n",
    "YES = 'Да'\n",
    "NO = 'Нет'\n",
    "FOLLOW_TRAFFIC_LIGHTS = 'Следовать сигналам светофора'\n",
    "MAIN_ROAD = 'Мы на главной дороге'\n",
    "NOT_MAIN_ROAD = 'Мы на второстепенной дороге'\n",
    "CHECK_RIGHT = 'Воспользоваться правилом \\\"помеха справа\\\"'\n",
    "ACTION_GO = 'Можно ехать'\n",
    "ACTION_GO_LEFT = 'Повернуть налево, иначе остановиться и ждать'\n",
    "ACTION_GO_RIGHT = 'Повернуть направо, иначе остановиться и ждать'\n",
    "ACTION_STOP = 'Остановиться и ждать'\n",
    "ACTION_CHECK_AND_GO = 'Уступить дорогу, если есть другие ТС, иначе можно ехать'\n",
    "\n",
    "class CrossroadPassage(KnowledgeEngine):\n",
    "    \n",
    "    #@DefFacts()\n",
    "    #def _initial_action(self):\n",
    "    #    yield Fact(action='greet')\n",
    "    \n",
    "    # Если палка смотрит влево, проезжай как королева\n",
    "    @Rule(AND(Fact(regulator = YES),\n",
    "              Fact(regulator_direction = 'Влево')))\n",
    "    def regulator_action_l(self):\n",
    "        self.declare(Fact(final_action = ACTION_GO))\n",
    "    \n",
    "    # Если палка смотрит вправо, ехать не имеешь права\n",
    "    @Rule(AND(Fact(regulator = YES),\n",
    "              Fact(regulator_direction = 'Вправо')))\n",
    "    def regulator_action_r(self):\n",
    "        self.declare(Fact(final_action = ACTION_STOP))\n",
    "    \n",
    "    # Если палка смотрит в рот, делай правый поворот\n",
    "    @Rule(AND(Fact(regulator = YES),\n",
    "              Fact(regulator_direction = 'На нас')))\n",
    "    def regulator_action_o(self):\n",
    "        self.declare(Fact(final_action = ACTION_GO_RIGHT))\n",
    "   \n",
    "    # Если мент стоит спиной, то не рыпайся и стой\n",
    "    @Rule(AND(Fact(regulator = YES),\n",
    "              Fact(regulator_direction = 'От нас')))\n",
    "    def regulator_action_a(self):\n",
    "        self.declare(Fact(final_action = ACTION_STOP))\n",
    "\n",
    "    @Rule(AND(Fact(traffic_lights = YES),\n",
    "              Fact(regulator = NO)))\n",
    "    def traf_lights_check(self):\n",
    "        self.declare(Fact(action = FOLLOW_TRAFFIC_LIGHTS))\n",
    "        \n",
    "    @Rule(AND(Fact(action = FOLLOW_TRAFFIC_LIGHTS),\n",
    "              Fact(light = 'Красный')))\n",
    "    def traf_lights_action_stop(self):\n",
    "        self.declare(Fact(final_action = ACTION_STOP))\n",
    "    \n",
    "    @Rule(AND(Fact(action = FOLLOW_TRAFFIC_LIGHTS),\n",
    "              Fact(light = 'Зелёный'),\n",
    "              Fact(light_type = 'Стрелка влево')))\n",
    "    def traf_lights_action_left(self):\n",
    "        self.declare(Fact(final_action = ACTION_GO_LEFT))\n",
    "    \n",
    "    @Rule(AND(Fact(action = FOLLOW_TRAFFIC_LIGHTS),\n",
    "              Fact(light = 'Зелёный'),\n",
    "              Fact(light_type = 'Стрелка вправо')))\n",
    "    def traf_lights_action_right(self):\n",
    "        self.declare(Fact(final_action = ACTION_GO_RIGHT))\n",
    "    \n",
    "    @Rule(AND(Fact(action = FOLLOW_TRAFFIC_LIGHTS),\n",
    "              Fact(light = 'Зелёный'),\n",
    "              NOT(OR(Fact(light_type = 'Стрелка влево'),\n",
    "                     Fact(light_type = 'Стрелка вправо')))))\n",
    "    def traf_lights_action_go(self):\n",
    "        self.declare(Fact(final_action = ACTION_GO))\n",
    "    \n",
    "    @Rule(OR(AND(Fact(traffic_lights = NO),\n",
    "                 Fact(regulator = NO)),\n",
    "             AND(Fact(action = FOLLOW_TRAFFIC_LIGHTS),\n",
    "              OR(Fact(light = 'Мигающий жёлтый'),\n",
    "                 Fact(light = NO))  )))\n",
    "    def check_prior_signs(self):\n",
    "        self.declare(Fact(action = 'Проверить знаки приоритета'))\n",
    "    \n",
    "    @Rule(AND(Fact(action = 'Проверить знаки приоритета'),\n",
    "              Fact(prior_signs = YES)))\n",
    "    def prior_signs_action(self):\n",
    "        self.declare(Fact(action = 'Следовать знакам приоритета'))\n",
    "    \n",
    "    @Rule(AND(Fact(action = 'Следовать знакам приоритета'),\n",
    "              Fact(prior_sign = 'Главная дорога')))\n",
    "    def prior_signs_action1(self):\n",
    "        self.declare(Fact(action = MAIN_ROAD))\n",
    "    \n",
    "    @Rule(AND(Fact(action = 'Следовать знакам приоритета'),\n",
    "              Fact(prior_sign = 'Уступи дорогу')))\n",
    "    def prior_signs_action2(self):\n",
    "        self.declare(Fact(action = NOT_MAIN_ROAD))\n",
    "    \n",
    "    @Rule(AND(Fact(action = 'Следовать знакам приоритета'),\n",
    "              Fact(prior_sign = 'Преимущество перед встречным движением')))\n",
    "    def prior_signs_action3(self):\n",
    "        self.declare(Fact(action = MAIN_ROAD))\n",
    "    \n",
    "    @Rule(AND(Fact(action = 'Следовать знакам приоритета'),\n",
    "              Fact(prior_sign = 'Преимущество встречного движения')))\n",
    "    def prior_signs_action4(self):\n",
    "        self.declare(Fact(action = NOT_MAIN_ROAD))\n",
    "    \n",
    "    @Rule(Fact(action = MAIN_ROAD))\n",
    "    def prior_sign_main_road(self):\n",
    "        self.declare(Fact(final_action = ACTION_GO))\n",
    "    \n",
    "    @Rule(Fact(action = NOT_MAIN_ROAD))\n",
    "    def prior_sign_not_main_road(self):\n",
    "        self.declare(Fact(final_action = ACTION_CHECK_AND_GO))\n",
    "    \n",
    "    @Rule(AND(Fact(action = 'Проверить знаки приоритета'),\n",
    "              Fact(prior_signs = NO)))\n",
    "    def check_road_type(self):\n",
    "        self.declare(Fact(action = 'Проверить покрытие дороги'))\n",
    "\n",
    "    @Rule(Fact(my_road = L('Асфальт') | L('Булыжник') | L('Бетон') | L('Щебёнка')))\n",
    "    def determine_road_type(self):\n",
    "        self.declare(Fact(road_type = 'Твёрдое покрытие'))\n",
    "    \n",
    "    @Rule(AND(Fact(action = 'Проверить покрытие дороги'), Fact(road_type = 'Твёрдое покрытие')))\n",
    "    def final_check_road_main(self):\n",
    "        self.declare(Fact(action = MAIN_ROAD))\n",
    "    \n",
    "    @Rule(AND(Fact(action = 'Проверить покрытие дороги'), NOT(Fact(road_type = 'Твёрдое покрытие'))))\n",
    "    def final_check_road_not_main(self):\n",
    "        self.declare(Fact(action = NOT_MAIN_ROAD))\n",
    "    \n",
    "    @Rule(Fact(spec_trans = YES))\n",
    "    def spec_trans_action(self):\n",
    "        self.declare(Fact(final_action = 'Уступить дорогу транспорту'))\n",
    "    \n",
    "    @Rule(AND(Fact(action = 'Проверить покрытие дороги'), Fact(my_road = W()), Fact(another_road = W()), ))\n",
    "    def check_trans_type(self):\n",
    "        self.declare(Fact(action = 'Проверить тип ТС'))\n",
    "    \n",
    "    @Rule(AND(Fact(action = 'Проверить тип ТС'), Fact(car_type = 'Трамвай')))\n",
    "    def check_car_type(self):\n",
    "        self.declare(Fact(action = MAIN_ROAD))\n",
    "\n",
    "    @Rule(AND(Fact(action = 'Проверить тип ТС'), NOT(Fact(car_type ='Трамвай'))))\n",
    "    def use_inter_on_right(self):\n",
    "        self.declare(Fact(action = CHECK_RIGHT))\n",
    "\n",
    "    @Rule(AND(Fact(action = CHECK_RIGHT), Fact(inter_side = 'Справа')))\n",
    "    def final_action3(self):\n",
    "        self.declare(Fact(action = NOT_MAIN_ROAD))\n",
    "    \n",
    "    @Rule(AND(Fact(action = CHECK_RIGHT), Fact(inter_side = 'Слева')))\n",
    "    def final_action4(self):\n",
    "        self.declare(Fact(action = MAIN_ROAD))\n",
    "    \n",
    "    \n",
    "    \n",
    "    def factz(self,l):\n",
    "        for x in l:\n",
    "            self.declare(x)\n",
    "    \n",
    "    @Rule(Fact(final_action = MATCH.action), salience = 1)\n",
    "    def what_to_do(self, action):\n",
    "        print(action)"
   ]
  },
  {
   "cell_type": "code",
   "execution_count": 3,
   "metadata": {},
   "outputs": [],
   "source": [
    "test = CrossroadPassage()"
   ]
  },
  {
   "cell_type": "code",
   "execution_count": 4,
   "metadata": {
    "colab": {
     "base_uri": "https://localhost:8080/"
    },
    "id": "VajzwbrUDgOG",
    "outputId": "c96eedc1-0efd-4170-e0ed-98788e522861"
   },
   "outputs": [
    {
     "name": "stdout",
     "output_type": "stream",
     "text": [
      "Можно ехать\n"
     ]
    }
   ],
   "source": [
    "test.reset()\n",
    "test.factz([\n",
    "    Fact(regulator='Нет'),\n",
    "    Fact(spec_trans='Нет'),\n",
    "    Fact(traffic_lights = 'Нет'),\n",
    "    Fact(prior_signs = 'Нет'),\n",
    "    Fact(my_road = 'Бетон', another_road = 'Вода')\n",
    "])\n",
    "\n",
    "test.run()"
   ]
  },
  {
   "cell_type": "code",
   "execution_count": 5,
   "metadata": {},
   "outputs": [
    {
     "name": "stdout",
     "output_type": "stream",
     "text": [
      "Уступить дорогу, если есть другие ТС, иначе можно ехать\n"
     ]
    }
   ],
   "source": [
    "test.reset()\n",
    "test.factz([\n",
    "    Fact(regulator='Нет'),\n",
    "    Fact(spec_trans='Нет'),\n",
    "    Fact(traffic_lights = 'Нет'),\n",
    "    Fact(prior_signs = 'Нет'),\n",
    "    Fact(my_road = 'Грунтовка', another_road = 'Асфальт')\n",
    "])\n",
    "\n",
    "test.run()"
   ]
  },
  {
   "cell_type": "code",
   "execution_count": 6,
   "metadata": {},
   "outputs": [
    {
     "name": "stdout",
     "output_type": "stream",
     "text": [
      "Уступить дорогу, если есть другие ТС, иначе можно ехать\n"
     ]
    }
   ],
   "source": [
    "test.reset()\n",
    "test.factz([\n",
    "    Fact(regulator='Нет'),\n",
    "    Fact(spec_trans='Нет'),\n",
    "    Fact(traffic_lights = 'Да'),\n",
    "    Fact(light = 'Мигающий жёлтый'),\n",
    "    Fact(prior_signs = 'Да'),\n",
    "    Fact(prior_sign = 'Уступи дорогу')\n",
    "])\n",
    "\n",
    "test.run()"
   ]
  },
  {
   "cell_type": "code",
   "execution_count": 7,
   "metadata": {},
   "outputs": [
    {
     "name": "stdout",
     "output_type": "stream",
     "text": [
      "Можно ехать\n"
     ]
    }
   ],
   "source": [
    "test.reset()\n",
    "test.factz([\n",
    "    Fact(regulator='Нет'),\n",
    "    Fact(spec_trans='Нет'),\n",
    "    Fact(traffic_lights = 'Да'),\n",
    "    Fact(light = 'Нет'),\n",
    "    Fact(prior_signs = 'Да'),\n",
    "    Fact(prior_sign = 'Главная дорога')\n",
    "])\n",
    "\n",
    "test.run()"
   ]
  },
  {
   "cell_type": "code",
   "execution_count": 8,
   "metadata": {
    "id": "XD13FKKwEwcT"
   },
   "outputs": [
    {
     "name": "stdout",
     "output_type": "stream",
     "text": [
      "Можно ехать\n"
     ]
    }
   ],
   "source": [
    "test.reset()\n",
    "test.factz([\n",
    "    Fact(regulator = 'Да'),\n",
    "    Fact(regulator_direction = 'Влево'),\n",
    "    Fact(traffic_lights = 'Да'),\n",
    "    Fact(light = 'Нет')\n",
    "])\n",
    "\n",
    "test.run()"
   ]
  },
  {
   "cell_type": "code",
   "execution_count": 9,
   "metadata": {},
   "outputs": [
    {
     "name": "stdout",
     "output_type": "stream",
     "text": [
      "Остановиться и ждать\n"
     ]
    }
   ],
   "source": [
    "test.reset()\n",
    "test.factz([\n",
    "    Fact(regulator = 'Да'),\n",
    "    Fact(regulator_direction = 'Вправо'),\n",
    "    Fact(traffic_lights = 'Да'),\n",
    "    Fact(light = 'Нет')\n",
    "])\n",
    "\n",
    "test.run()"
   ]
  },
  {
   "cell_type": "code",
   "execution_count": 10,
   "metadata": {},
   "outputs": [
    {
     "name": "stdout",
     "output_type": "stream",
     "text": [
      "Повернуть направо, иначе остановиться и ждать\n"
     ]
    }
   ],
   "source": [
    "test.reset()\n",
    "test.factz([\n",
    "    Fact(regulator = 'Да'),\n",
    "    Fact(regulator_direction = 'На нас'),\n",
    "    Fact(prior_signs = 'Нет')\n",
    "])\n",
    "\n",
    "test.run()"
   ]
  },
  {
   "cell_type": "code",
   "execution_count": 11,
   "metadata": {},
   "outputs": [
    {
     "name": "stdout",
     "output_type": "stream",
     "text": [
      "Остановиться и ждать\n"
     ]
    }
   ],
   "source": [
    "test.reset()\n",
    "test.factz([\n",
    "    Fact(regulator = 'Да'),\n",
    "    Fact(regulator_direction = 'От нас'),\n",
    "    Fact(traffic_lights = 'Нет')\n",
    "])\n",
    "\n",
    "test.run()"
   ]
  },
  {
   "cell_type": "code",
   "execution_count": 12,
   "metadata": {},
   "outputs": [
    {
     "name": "stdout",
     "output_type": "stream",
     "text": [
      "Остановиться и ждать\n"
     ]
    }
   ],
   "source": [
    "test.reset()\n",
    "test.factz([\n",
    "    Fact(regulator='Нет'),\n",
    "    Fact(traffic_lights = 'Да'),\n",
    "    Fact(light = 'Красный')\n",
    "])\n",
    "\n",
    "test.run()"
   ]
  },
  {
   "cell_type": "code",
   "execution_count": 13,
   "metadata": {},
   "outputs": [
    {
     "name": "stdout",
     "output_type": "stream",
     "text": [
      "Можно ехать\n"
     ]
    }
   ],
   "source": [
    "test.reset()\n",
    "test.factz([\n",
    "    Fact(regulator='Нет'),\n",
    "    Fact(traffic_lights = 'Да'),\n",
    "    Fact(light = 'Зелёный')\n",
    "])\n",
    "\n",
    "test.run()"
   ]
  },
  {
   "cell_type": "code",
   "execution_count": 14,
   "metadata": {},
   "outputs": [
    {
     "name": "stdout",
     "output_type": "stream",
     "text": [
      "Повернуть направо, иначе остановиться и ждать\n"
     ]
    }
   ],
   "source": [
    "test.reset()\n",
    "test.factz([\n",
    "    Fact(regulator='Нет'),\n",
    "    Fact(traffic_lights = 'Да'),\n",
    "    Fact(light = 'Зелёный'),\n",
    "    Fact(light_type = 'Стрелка вправо')\n",
    "])\n",
    "\n",
    "test.run()"
   ]
  },
  {
   "cell_type": "code",
   "execution_count": 15,
   "metadata": {},
   "outputs": [
    {
     "name": "stdout",
     "output_type": "stream",
     "text": [
      "Повернуть направо, иначе остановиться и ждать\n"
     ]
    }
   ],
   "source": [
    "test.reset()\n",
    "test.factz([\n",
    "    Fact(regulator='Да'),\n",
    "    Fact(regulator_direction='На нас'),\n",
    "    Fact(traffic_lights='Нет'),\n",
    "    Fact(light='Мигающий жёлтый'),\n",
    "    Fact(light_type='Нет стрелки'),\n",
    "    Fact(prior_signs='Нет'),\n",
    "    Fact(prior_sign='Преимущество встречного движения'),\n",
    "    Fact(my_road='Огород'),\n",
    "    Fact(car_type='Автобус')\n",
    "])\n",
    "\n",
    "test.run()"
   ]
  },
  {
   "cell_type": "code",
   "execution_count": null,
   "metadata": {},
   "outputs": [],
   "source": []
  }
 ],
 "metadata": {
  "colab": {
   "name": "Untitled4.ipynb",
   "provenance": []
  },
  "kernelspec": {
   "display_name": "Python 3 (ipykernel)",
   "language": "python",
   "name": "python3"
  },
  "language_info": {
   "codemirror_mode": {
    "name": "ipython",
    "version": 3
   },
   "file_extension": ".py",
   "mimetype": "text/x-python",
   "name": "python",
   "nbconvert_exporter": "python",
   "pygments_lexer": "ipython3",
   "version": "3.9.7"
  }
 },
 "nbformat": 4,
 "nbformat_minor": 4
}
