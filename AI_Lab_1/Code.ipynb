{
  "nbformat": 4,
  "nbformat_minor": 0,
  "metadata": {
    "colab": {
      "name": "Untitled4.ipynb",
      "provenance": []
    },
    "kernelspec": {
      "name": "python3",
      "display_name": "Python 3"
    },
    "language_info": {
      "name": "python"
    }
  },
  "cells": [
    {
      "cell_type": "code",
      "execution_count": 2,
      "metadata": {
        "colab": {
          "base_uri": "https://localhost:8080/"
        },
        "id": "wHDdncU_tuYM",
        "outputId": "043f4b93-8e9b-443e-c116-e72eaa7dd996"
      },
      "outputs": [
        {
          "output_type": "stream",
          "name": "stdout",
          "text": [
            "Collecting git+https://github.com/buguroo/pyknow/\n",
            "  Cloning https://github.com/buguroo/pyknow/ to /tmp/pip-req-build-h05u6ajw\n",
            "  Running command git clone -q https://github.com/buguroo/pyknow/ /tmp/pip-req-build-h05u6ajw\n",
            "Collecting frozendict==1.2\n",
            "  Downloading frozendict-1.2.tar.gz (2.6 kB)\n",
            "Collecting schema==0.6.7\n",
            "  Downloading schema-0.6.7-py2.py3-none-any.whl (14 kB)\n",
            "Building wheels for collected packages: pyknow, frozendict\n",
            "  Building wheel for pyknow (setup.py) ... \u001b[?25l\u001b[?25hdone\n",
            "  Created wheel for pyknow: filename=pyknow-1.7.0-py3-none-any.whl size=34244 sha256=97070176f96a11890045e9ec4b21f23267e7433d923e53c5088f98ab185083ee\n",
            "  Stored in directory: /tmp/pip-ephem-wheel-cache-td83m1dk/wheels/d7/8a/1f/40a9edb6f4ce8add0d4029b2c5e274d32d140ac8a7036d5a47\n",
            "  Building wheel for frozendict (setup.py) ... \u001b[?25l\u001b[?25hdone\n",
            "  Created wheel for frozendict: filename=frozendict-1.2-py3-none-any.whl size=3166 sha256=4a4784e4cd117fb4b9a8ebb0ef65ca7b79d50ed8c03ebd28268a5b5ff5b7d9d3\n",
            "  Stored in directory: /root/.cache/pip/wheels/68/17/69/ac196dd181e620bba5fae5488e4fd6366a7316dce13cf88776\n",
            "Successfully built pyknow frozendict\n",
            "Installing collected packages: schema, frozendict, pyknow\n",
            "Successfully installed frozendict-1.2 pyknow-1.7.0 schema-0.6.7\n"
          ]
        }
      ],
      "source": [
        "import sys\n",
        "\n",
        "!{sys.executable} -m pip install git+https://github.com/buguroo/pyknow/"
      ]
    },
    {
      "cell_type": "code",
      "source": [
        "from pyknow import *\n",
        "\n",
        "class CrossroadPassage(KnowledgeEngine):\n",
        "    \n",
        "    #@DefFacts()\n",
        "    #def _initial_action(self):\n",
        "    #    yield Fact(action=\"greet\")\n",
        "\n",
        "    @Rule(Fact(regulator='Да'))\n",
        "    def regulator_action(self):\n",
        "        self.declare(Fact(action = 'Следовать сигналам регулировщика'))\n",
        "\n",
        "    @Rule(Fact(spec_trans='Да'))\n",
        "    def spec_trans_action(self):\n",
        "        self.declare(Fact(action = 'Уступить дорогу транспорту'))\n",
        "\n",
        "    @Rule(Fact(traffic_lights = 'Да', is_enabled = 'Да'))\n",
        "    def traf_lights_action(self):\n",
        "        self.declare(Fact(final_action = 'Следовать сигналам светофора'))\n",
        "    \n",
        "    @Rule(AND(NOT(Fact(final_action = W()), \n",
        "                       OR(Fact(traffic_light = 'Нет'), Fact(traffic_light = 'Да', is_enabled = 'Нет'), Fact(traffic_light = 'Да', is_enabled = 'Мигает желтый свет')))))\n",
        "    def check_prior_signs(self):\n",
        "        self.declare(Fact(action = 'Проверить знаки приоритета'))\n",
        "    \n",
        "    @Rule(AND(Fact(action = 'Проверить знаки приоритета'), Fact(prior_signs = 'Да')))\n",
        "    def prior_signs_action(self):\n",
        "        self.declare(Fact(final_action = 'Следовать знакам приоритета'))\n",
        "    \n",
        "    @Rule(AND(Fact(action = 'Проверить знаки приоритета'), Fact(prior_signs = 'Нет')))\n",
        "    def check_road_type(self):\n",
        "        self.declare(Fact(action = 'Проверить покрытие дороги'))\n",
        "    \n",
        "    @Rule(AND(Fact(action = 'Проверить покрытие дороги'), Fact(my_road = W()), Fact(another_road = W()), ))\n",
        "    def check_trans_type(self):\n",
        "        self.declare(Fact(action = 'Проверить тип ТС'))\n",
        "\n",
        "    @Rule(AND(Fact(action = 'Проверить покрытие дороги'), Fact(my_road = L('Асфальт') | L('Булыжник') | L('Бетон') | L('Щебёнка'))))\n",
        "    def final_action1(self):\n",
        "        self.declare(Fact(final_action = 'Мы на главной дороге'))\n",
        "    \n",
        "    @Rule(AND(Fact(action = 'Проверить покрытие дороги'), NOT(Fact(my_road = L('Асфальт') | L('Булыжник') | L('Бетон') | L('Щебёнка')))))\n",
        "    def final_action2(self):\n",
        "        self.declare(Fact(final_action = 'Мы на второстепенной дороге'))\n",
        "    \n",
        "    @Rule(AND(Fact(action = 'Проверить тип ТС'), Fact(car_type = 'Трамвай')))\n",
        "    def check_car_type(self):\n",
        "        self.declare(Fact(action = 'Мы на главной дороге'))\n",
        "\n",
        "    @Rule(AND(Fact(action = 'Проверить тип ТС'), NOT(Fact(car_type ='Трамвай'))))\n",
        "    def use_inter_on_right(self):\n",
        "        self.declare(Fact(action = 'Воспользоваться правилом \"помеха справа\"'))\n",
        "\n",
        "    @Rule(AND(Fact(action = 'Воспользоваться правилом \"помеха справа\"'), Fact(inter_side = 'Справа')))\n",
        "    def final_action3(self):\n",
        "        self.declare(Fact(action = 'Мы на второстепенной дороге'))\n",
        "    \n",
        "    @Rule(AND(Fact(action = 'Воспользоваться правилом \"помеха справа\"'), Fact(inter_side = 'Слева')))\n",
        "    def final_action4(self):\n",
        "        self.declare(Fact(action = 'Мы на главной дороге'))\n",
        "    \n",
        "    def factz(self,l):\n",
        "        for x in l:\n",
        "            self.declare(x)"
      ],
      "metadata": {
        "id": "qTVPeHW6aQN_"
      },
      "execution_count": 44,
      "outputs": []
    },
    {
      "cell_type": "code",
      "source": [
        "test = CrossroadPassage()\n",
        "test.reset()\n",
        "\n",
        "test.factz([\n",
        "    Fact(regulator='Нет'),\n",
        "    Fact(spec_trans='Нет'),\n",
        "    Fact(traffic_light = 'Нет'),\n",
        "    Fact(prior_signs = 'Нет'),\n",
        "    Fact(my_road = 'Бетон', another_road = 'вода')\n",
        "])\n",
        "\n",
        "test.run()\n",
        "test.facts"
      ],
      "metadata": {
        "colab": {
          "base_uri": "https://localhost:8080/"
        },
        "id": "VajzwbrUDgOG",
        "outputId": "c96eedc1-0efd-4170-e0ed-98788e522861"
      },
      "execution_count": 45,
      "outputs": [
        {
          "output_type": "execute_result",
          "data": {
            "text/plain": [
              "FactList([(0, InitialFact()),\n",
              "          (1, Fact(regulator='Нет')),\n",
              "          (2, Fact(spec_trans='Нет')),\n",
              "          (3, Fact(traffic_light='Нет')),\n",
              "          (4, Fact(prior_signs='Нет')),\n",
              "          (5, Fact(my_road='Бетон', another_road='вода')),\n",
              "          (6, Fact(action='Проверить знаки приоритета')),\n",
              "          (7, Fact(action='Проверить покрытие дороги')),\n",
              "          (8, Fact(action='Проверить тип ТС')),\n",
              "          (9, Fact(action='Воспользоваться правилом \"помеха справа\"')),\n",
              "          (10, Fact(final_action='Мы на главной дороге'))])"
            ]
          },
          "metadata": {},
          "execution_count": 45
        }
      ]
    },
    {
      "cell_type": "code",
      "source": [
        ""
      ],
      "metadata": {
        "id": "XD13FKKwEwcT"
      },
      "execution_count": null,
      "outputs": []
    }
  ]
}