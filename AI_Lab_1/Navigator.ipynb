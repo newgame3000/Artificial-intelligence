{
 "cells": [
  {
   "cell_type": "code",
   "execution_count": 21,
   "metadata": {
    "id": "2NwSbSShi9F8"
   },
   "outputs": [],
   "source": [
    "import sys"
   ]
  },
  {
   "cell_type": "code",
   "execution_count": 22,
   "metadata": {
    "colab": {
     "base_uri": "https://localhost:8080/"
    },
    "id": "yE34MOYVi_Eo",
    "outputId": "c8c66656-26b0-4c57-cad8-2546744ac4c2"
   },
   "outputs": [
    {
     "name": "stdout",
     "output_type": "stream",
     "text": [
      "Defaulting to user installation because normal site-packages is not writeable\n",
      "Collecting git+https://github.com/buguroo/pyknow/\n",
      "  Cloning https://github.com/buguroo/pyknow/ to /tmp/pip-req-build-0zpcunv6\n",
      "  Running command git clone --filter=blob:none --quiet https://github.com/buguroo/pyknow/ /tmp/pip-req-build-0zpcunv6\n",
      "  Resolved https://github.com/buguroo/pyknow/ to commit 48818336f2e9a126f1964f2d8dc22d37ff800fe8\n",
      "  Preparing metadata (setup.py) ... \u001b[?25ldone\n",
      "\u001b[?25hRequirement already satisfied: frozendict==1.2 in /home/kirill/.sage/local/lib/python3.8/site-packages (from pyknow==1.7.0) (1.2)\n",
      "Requirement already satisfied: schema==0.6.7 in /home/kirill/.sage/local/lib/python3.8/site-packages (from pyknow==1.7.0) (0.6.7)\n"
     ]
    }
   ],
   "source": [
    "!{sys.executable} -m pip install git+https://github.com/buguroo/pyknow/"
   ]
  },
  {
   "cell_type": "code",
   "execution_count": 23,
   "metadata": {
    "id": "WLKAzF06ihpc"
   },
   "outputs": [
    {
     "ename": "ModuleNotFoundError",
     "evalue": "No module named 'pyknow'",
     "output_type": "error",
     "traceback": [
      "\u001b[0;31m---------------------------------------------------------------------------\u001b[0m",
      "\u001b[0;31mModuleNotFoundError\u001b[0m                       Traceback (most recent call last)",
      "\u001b[0;32m<ipython-input-23-d42c47164b1b>\u001b[0m in \u001b[0;36m<module>\u001b[0;34m\u001b[0m\n\u001b[0;32m----> 1\u001b[0;31m \u001b[0;32mfrom\u001b[0m \u001b[0mpyknow\u001b[0m \u001b[0;32mimport\u001b[0m \u001b[0;34m*\u001b[0m\u001b[0;34m\u001b[0m\u001b[0;34m\u001b[0m\u001b[0m\n\u001b[0m\u001b[1;32m      2\u001b[0m \u001b[0;34m\u001b[0m\u001b[0m\n\u001b[1;32m      3\u001b[0m \u001b[0mYES\u001b[0m \u001b[0;34m=\u001b[0m \u001b[0;34m'Да'\u001b[0m\u001b[0;34m\u001b[0m\u001b[0;34m\u001b[0m\u001b[0m\n\u001b[1;32m      4\u001b[0m \u001b[0mNO\u001b[0m \u001b[0;34m=\u001b[0m \u001b[0;34m'Нет'\u001b[0m\u001b[0;34m\u001b[0m\u001b[0;34m\u001b[0m\u001b[0m\n\u001b[1;32m      5\u001b[0m \u001b[0;34m\u001b[0m\u001b[0m\n",
      "\u001b[0;31mModuleNotFoundError\u001b[0m: No module named 'pyknow'"
     ]
    }
   ],
   "source": [
    "from pyknow import *\n",
    "\n",
    "YES = 'Да'\n",
    "NO = 'Нет'\n",
    "\n",
    "ACTION_TURN_AROUND = 'Развернуться'\n",
    "ACTION_CONTINUE_DRIVING_STRAIGHT = 'Продолжать движение вперёд по правилам'\n",
    "ACTION_CONTINUE_DRIVING_CROSSROAD = 'Следуем правилам проезда на перекрёстке'\n",
    "ACTION_END = 'Мы доехали'\n",
    "ACTION_STRAIGHT_CROSSROAD_TURN = 'Ехать до ближайшего перекрёстка и повернуть в направлении пункта назначения'\n",
    "ACTION_CROSSROAD_TURN = 'Развернуться на ближайшем перекрёстке'\n",
    "\n",
    "class Navigator(KnowledgeEngine):\n",
    "    def declare_facts(self, facts):\n",
    "        for fact in facts:\n",
    "            self.declare(fact)\n",
    "\n",
    "    @Rule(AND(Fact(navigator_direction = 'Прямо'),\n",
    "              Fact(forbidden_sign = NO)))\n",
    "    def forbidden_false(self):\n",
    "        self.declare(Fact(final_action = ACTION_CONTINUE_DRIVING_STRAIGHT))\n",
    "\n",
    "    @Rule(OR(Fact(navigator_direction = 'Направо'),\n",
    "             Fact(navigator_direction = 'Налево')))\n",
    "    def navigator_direction_right_left(self):\n",
    "        self.declare(Fact(final_action = ACTION_CONTINUE_DRIVING_CROSSROAD))\n",
    "\n",
    "    @Rule(Fact(navigator_direction = NO))\n",
    "    def navigator_turn_around_false(self):\n",
    "        self.declare(Fact(final_action = ACTION_END))\n",
    "\n",
    "    @Rule(AND(Fact(navigator_direction = 'Назад'), \n",
    "              Fact(ban_on_turning = YES),\n",
    "              Fact(one_way_traffic = YES)))\n",
    "    def all_right_turn(self):\n",
    "        self.declare(Fact(final_action = ACTION_STRAIGHT_CROSSROAD_TURN))\n",
    "\n",
    "    @Rule(OR(\n",
    "          AND(Fact(navigator_direction = 'Назад'),\n",
    "              Fact(ban_on_turning = YES),\n",
    "              Fact(one_way_traffic = NO)),\n",
    "          AND(Fact(navigator_direction = 'Назад'),\n",
    "              Fact(ban_on_turning = NO),\n",
    "              Fact(stop_15_meters = YES))))\n",
    "    def crossroad_turn(self):\n",
    "        self.declare(Fact(final_action = ACTION_CROSSROAD_TURN))\n",
    "\n",
    "    @Rule(OR(\n",
    "          AND(Fact(navigator_direction = 'Прямо'), \n",
    "              Fact(forbidden_sign = YES)),\n",
    "          AND(Fact(navigator_direction = 'Назад'),\n",
    "              Fact(ban_on_turning = NO),\n",
    "              Fact(stop_15_meters = NO))))\n",
    "    def turn_true(self):\n",
    "        self.declare(Fact(final_action = ACTION_TURN_AROUND))\n",
    "\n",
    "    def factz(self,l):\n",
    "        for x in l:\n",
    "            self.declare(x)\n",
    "\n",
    "    @Rule(Fact(final_action = MATCH.action), salience = 1)\n",
    "    def what_to_do(self, action):\n",
    "        print(action)"
   ]
  },
  {
   "cell_type": "code",
   "execution_count": null,
   "metadata": {
    "id": "6MZaPHpUi9RT"
   },
   "outputs": [],
   "source": [
    "test = Navigator()"
   ]
  },
  {
   "cell_type": "code",
   "execution_count": null,
   "metadata": {
    "colab": {
     "base_uri": "https://localhost:8080/"
    },
    "id": "1_oQxkqxt4Er",
    "outputId": "412f834b-5fcf-45d7-e6fd-2c1388c271d5"
   },
   "outputs": [],
   "source": [
    "test.reset()\n",
    "test.factz([\n",
    "    Fact(navigator_direction = 'Прямо'),\n",
    "    Fact(forbidden_sign = 'Да')\n",
    "])\n",
    "\n",
    "test.run()"
   ]
  },
  {
   "cell_type": "code",
   "execution_count": null,
   "metadata": {
    "colab": {
     "base_uri": "https://localhost:8080/"
    },
    "id": "AOVIcyIWt4Ph",
    "outputId": "c5b31f2d-929d-49df-e447-d91eb1127233"
   },
   "outputs": [],
   "source": [
    "test.reset()\n",
    "test.factz([\n",
    "    Fact(navigator_direction = 'Назад'),\n",
    "    Fact(ban_on_turning = YES),\n",
    "    Fact(one_way_traffic = YES)\n",
    "])\n",
    "\n",
    "test.run()"
   ]
  },
  {
   "cell_type": "code",
   "execution_count": null,
   "metadata": {
    "colab": {
     "base_uri": "https://localhost:8080/"
    },
    "id": "f6rVNn2MmtKT",
    "outputId": "7f8fe7d2-627c-41f8-d986-ba2b03eb1998"
   },
   "outputs": [],
   "source": [
    "test.reset()\n",
    "test.factz([\n",
    "    Fact(navigator_direction = 'Назад'),\n",
    "    Fact(ban_on_turning = 'Да'),\n",
    "    Fact(one_way_traffic = 'Нет')\n",
    "])\n",
    "test.run()"
   ]
  },
  {
   "cell_type": "code",
   "execution_count": null,
   "metadata": {
    "colab": {
     "base_uri": "https://localhost:8080/"
    },
    "id": "yfZ5CJu0lug0",
    "outputId": "37dc9431-d787-440a-b54e-0d57de0ff350"
   },
   "outputs": [],
   "source": [
    "test.reset()\n",
    "test.factz([\n",
    "    Fact(navigator_direction = 'Прямо'),\n",
    "    Fact(forbidden_sign = 'Нет')\n",
    "])\n",
    "\n",
    "test.run()"
   ]
  },
  {
   "cell_type": "code",
   "execution_count": null,
   "metadata": {
    "colab": {
     "base_uri": "https://localhost:8080/"
    },
    "id": "D_zhp8vGmKCh",
    "outputId": "8fb2c5fd-26ee-4ec5-9c45-010d92afe93d"
   },
   "outputs": [],
   "source": [
    "test.reset()\n",
    "test.factz([\n",
    "    Fact(navigator_direction = 'Направо')\n",
    "])\n",
    "\n",
    "test.run()"
   ]
  },
  {
   "cell_type": "code",
   "execution_count": null,
   "metadata": {
    "colab": {
     "base_uri": "https://localhost:8080/"
    },
    "id": "FA-0b5cPmki8",
    "outputId": "59b300eb-58c5-45ab-d20b-e533d7b3e172"
   },
   "outputs": [],
   "source": [
    "test.reset()\n",
    "test.factz([\n",
    "    Fact(navigator_direction = 'Направо')\n",
    "])\n",
    "\n",
    "test.run()"
   ]
  },
  {
   "cell_type": "code",
   "execution_count": null,
   "metadata": {
    "colab": {
     "base_uri": "https://localhost:8080/"
    },
    "id": "w034NQi3mpHQ",
    "outputId": "d21c095e-678e-47dc-ce3a-ea3f003e3a5c"
   },
   "outputs": [],
   "source": [
    "\n",
    "test.reset()\n",
    "test.factz([\n",
    "    Fact(navigator_direction = 'Нет')\n",
    "])\n",
    "\n",
    "test.run()"
   ]
  },
  {
   "cell_type": "code",
   "execution_count": null,
   "metadata": {
    "colab": {
     "base_uri": "https://localhost:8080/"
    },
    "id": "KDUhe0aCm94V",
    "outputId": "99744224-f96c-4d1f-fd9c-97073650b7f8"
   },
   "outputs": [],
   "source": [
    "test.reset()\n",
    "test.factz([\n",
    "    Fact(navigator_direction = 'Назад'),\n",
    "    Fact(ban_on_turning = 'Да'),\n",
    "    Fact(one_way_traffic = 'Да')\n",
    "])\n",
    "\n",
    "test.run()"
   ]
  },
  {
   "cell_type": "code",
   "execution_count": null,
   "metadata": {},
   "outputs": [],
   "source": []
  },
  {
   "cell_type": "code",
   "execution_count": null,
   "metadata": {},
   "outputs": [],
   "source": []
  },
  {
   "cell_type": "code",
   "execution_count": null,
   "metadata": {},
   "outputs": [],
   "source": []
  },
  {
   "cell_type": "code",
   "execution_count": null,
   "metadata": {},
   "outputs": [],
   "source": []
  }
 ],
 "metadata": {
  "colab": {
   "collapsed_sections": [],
   "name": "Navigator.ipynb",
   "provenance": []
  },
  "kernelspec": {
   "display_name": "Python 3",
   "language": "python",
   "name": "python3"
  },
  "language_info": {
   "codemirror_mode": {
    "name": "ipython",
    "version": 3
   },
   "file_extension": ".py",
   "mimetype": "text/x-python",
   "name": "python",
   "nbconvert_exporter": "python",
   "pygments_lexer": "ipython3",
   "version": "3.8.5"
  }
 },
 "nbformat": 4,
 "nbformat_minor": 4
}
