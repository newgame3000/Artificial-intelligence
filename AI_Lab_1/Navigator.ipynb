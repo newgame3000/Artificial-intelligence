{
  "nbformat": 4,
  "nbformat_minor": 0,
  "metadata": {
    "colab": {
      "name": "Navigator.ipynb",
      "provenance": [],
      "collapsed_sections": []
    },
    "kernelspec": {
      "name": "python3",
      "display_name": "Python 3"
    },
    "language_info": {
      "name": "python"
    }
  },
  "cells": [
    {
      "cell_type": "code",
      "source": [
        "import sys"
      ],
      "metadata": {
        "id": "2NwSbSShi9F8"
      },
      "execution_count": 73,
      "outputs": []
    },
    {
      "cell_type": "code",
      "source": [
        "!{sys.executable} -m pip install git+https://github.com/buguroo/pyknow/"
      ],
      "metadata": {
        "colab": {
          "base_uri": "https://localhost:8080/"
        },
        "id": "yE34MOYVi_Eo",
        "outputId": "c8c66656-26b0-4c57-cad8-2546744ac4c2"
      },
      "execution_count": 74,
      "outputs": [
        {
          "output_type": "stream",
          "name": "stdout",
          "text": [
            "Collecting git+https://github.com/buguroo/pyknow/\n",
            "  Cloning https://github.com/buguroo/pyknow/ to /tmp/pip-req-build-xunecznu\n",
            "  Running command git clone -q https://github.com/buguroo/pyknow/ /tmp/pip-req-build-xunecznu\n",
            "Requirement already satisfied: frozendict==1.2 in /usr/local/lib/python3.7/dist-packages (from pyknow==1.7.0) (1.2)\n",
            "Requirement already satisfied: schema==0.6.7 in /usr/local/lib/python3.7/dist-packages (from pyknow==1.7.0) (0.6.7)\n"
          ]
        }
      ]
    },
    {
      "cell_type": "code",
      "execution_count": 75,
      "metadata": {
        "id": "WLKAzF06ihpc"
      },
      "outputs": [],
      "source": [
        "from pyknow import *\n",
        "\n",
        "YES = 'Да'\n",
        "NO = 'Нет'\n",
        "\n",
        "ACTION_TURN_AROUND = 'Развернуться'\n",
        "ACTION_CONTINUE_DRIVING_STRAIGHT = 'Продолжать движение вперёд по правилам'\n",
        "ACTION_CONTINUE_DRIVING_CROSSROAD = 'Следуем правилам проезда на перекрёстке'\n",
        "ACTION_END = 'Мы доехали'\n",
        "ACTION_STRAIGHT_CROSSROAD_TURN = 'Ехать до ближайшего перекрёстка и повернуть в направлении пункта назначения'\n",
        "ACTION_CROSSROAD_TURN = 'Развернуться на ближайшем перекрёстке'\n",
        "\n",
        "class Navigator(KnowledgeEngine):\n",
        "    def declare_facts(self, facts):\n",
        "        for fact in facts:\n",
        "            self.declare(fact)\n",
        "\n",
        "    @Rule(AND(Fact(navigator_direction = 'Прямо'),\n",
        "              Fact(forbidden_sign = NO)))\n",
        "    def forbidden_false(self):\n",
        "        self.declare(Fact(final_action = ACTION_CONTINUE_DRIVING_STRAIGHT))\n",
        "\n",
        "    @Rule(OR(Fact(navigator_direction = 'Направо'),\n",
        "             Fact(navigator_direction = 'Налево')))\n",
        "    def navigator_direction_right_left(self):\n",
        "        self.declare(Fact(final_action = ACTION_CONTINUE_DRIVING_CROSSROAD))\n",
        "\n",
        "    @Rule(Fact(navigator_turn_around = NO))\n",
        "    def navigator_turn_around_false(self):\n",
        "        self.declare(Fact(final_action = ACTION_END))\n",
        "\n",
        "    @Rule(AND(Fact(navigator_turn_around = YES), \n",
        "              Fact(ban_on_turning = YES),\n",
        "              Fact(one_way_traffic = YES)))\n",
        "    def all_right_turn(self):\n",
        "        self.declare(Fact(final_action = ACTION_STRAIGHT_CROSSROAD_TURN))\n",
        "\n",
        "    @Rule(OR(\n",
        "          AND(Fact(navigator_turn_around = YES),\n",
        "              Fact(ban_on_turning = YES),\n",
        "              Fact(one_way_traffic = NO)),\n",
        "          AND(Fact(navigator_turn_around = YES),\n",
        "              Fact(ban_on_turning = NO),\n",
        "              Fact(stop_15_meters = YES))))\n",
        "    def crossroad_turn(self):\n",
        "        self.declare(Fact(final_action = ACTION_CROSSROAD_TURN))\n",
        "\n",
        "    @Rule(OR(\n",
        "          AND(Fact(navigator_direction = 'Прямо'), \n",
        "              Fact(forbidden_sign = YES)),\n",
        "          AND(Fact(navigator_turn_around = YES),\n",
        "              Fact(ban_on_turning = NO),\n",
        "              Fact(stop_15_meters = NO))))\n",
        "    def turn_true(self):\n",
        "        self.declare(Fact(final_action = ACTION_TURN_AROUND))\n",
        "\n",
        "    def factz(self,l):\n",
        "        for x in l:\n",
        "            self.declare(x)\n",
        "\n",
        "    @Rule(Fact(final_action = MATCH.action), salience = 1)\n",
        "    def what_to_do(self, action):\n",
        "        print(action)"
      ]
    },
    {
      "cell_type": "code",
      "source": [
        "test = Navigator()"
      ],
      "metadata": {
        "id": "6MZaPHpUi9RT"
      },
      "execution_count": 76,
      "outputs": []
    },
    {
      "cell_type": "code",
      "source": [
        "test.reset()\n",
        "test.factz([\n",
        "    Fact(navigator_direction = 'Прямо'),\n",
        "    Fact(forbidden_sign = 'Да')\n",
        "])\n",
        "\n",
        "test.run()"
      ],
      "metadata": {
        "id": "1_oQxkqxt4Er",
        "colab": {
          "base_uri": "https://localhost:8080/"
        },
        "outputId": "412f834b-5fcf-45d7-e6fd-2c1388c271d5"
      },
      "execution_count": 77,
      "outputs": [
        {
          "output_type": "stream",
          "name": "stdout",
          "text": [
            "Развернуться\n"
          ]
        },
        {
          "output_type": "execute_result",
          "data": {
            "text/plain": [
              "FactList([(0, InitialFact()),\n",
              "          (1, Fact(navigator_direction='Прямо')),\n",
              "          (2, Fact(forbidden_sign='Да')),\n",
              "          (3, Fact(final_action='Развернуться'))])"
            ]
          },
          "metadata": {},
          "execution_count": 77
        }
      ]
    },
    {
      "cell_type": "code",
      "source": [
        "test.reset()\n",
        "test.factz([\n",
        "    Fact(navigator_turn_around = YES),\n",
        "    Fact(ban_on_turning = YES),\n",
        "    Fact(one_way_traffic = NO)\n",
        "])\n",
        "\n",
        "test.run()"
      ],
      "metadata": {
        "id": "AOVIcyIWt4Ph",
        "colab": {
          "base_uri": "https://localhost:8080/"
        },
        "outputId": "c5b31f2d-929d-49df-e447-d91eb1127233"
      },
      "execution_count": 78,
      "outputs": [
        {
          "output_type": "stream",
          "name": "stdout",
          "text": [
            "Развернуться на ближайшем перекрёстке\n"
          ]
        }
      ]
    },
    {
      "cell_type": "code",
      "source": [
        "test.reset()\n",
        "test.factz([\n",
        "    Fact(navigator_turn_around = 'Да'),\n",
        "    Fact(ban_on_turning = 'Да'),\n",
        "    Fact(one_way_traffic = 'Нет')\n",
        "])\n",
        "test.run()"
      ],
      "metadata": {
        "colab": {
          "base_uri": "https://localhost:8080/"
        },
        "id": "f6rVNn2MmtKT",
        "outputId": "7f8fe7d2-627c-41f8-d986-ba2b03eb1998"
      },
      "execution_count": 79,
      "outputs": [
        {
          "output_type": "stream",
          "name": "stdout",
          "text": [
            "Развернуться на ближайшем перекрёстке\n"
          ]
        }
      ]
    },
    {
      "cell_type": "code",
      "source": [
        "test.reset()\n",
        "test.factz([\n",
        "    Fact(navigator_direction = 'Прямо'),\n",
        "    Fact(forbidden_sign = 'Нет')\n",
        "])\n",
        "\n",
        "test.run()"
      ],
      "metadata": {
        "colab": {
          "base_uri": "https://localhost:8080/"
        },
        "id": "yfZ5CJu0lug0",
        "outputId": "37dc9431-d787-440a-b54e-0d57de0ff350"
      },
      "execution_count": 80,
      "outputs": [
        {
          "output_type": "stream",
          "name": "stdout",
          "text": [
            "Продолжать движение вперёд по правилам\n"
          ]
        }
      ]
    },
    {
      "cell_type": "code",
      "source": [
        "test.reset()\n",
        "test.factz([\n",
        "    Fact(navigator_direction = 'Направо')\n",
        "])\n",
        "\n",
        "test.run()"
      ],
      "metadata": {
        "colab": {
          "base_uri": "https://localhost:8080/"
        },
        "id": "D_zhp8vGmKCh",
        "outputId": "8fb2c5fd-26ee-4ec5-9c45-010d92afe93d"
      },
      "execution_count": 81,
      "outputs": [
        {
          "output_type": "stream",
          "name": "stdout",
          "text": [
            "Следуем правилам проезда на перекрёстке\n"
          ]
        }
      ]
    },
    {
      "cell_type": "code",
      "source": [
        "test.reset()\n",
        "test.factz([\n",
        "    Fact(navigator_direction = 'Направо')\n",
        "])\n",
        "\n",
        "test.run()"
      ],
      "metadata": {
        "colab": {
          "base_uri": "https://localhost:8080/"
        },
        "id": "FA-0b5cPmki8",
        "outputId": "59b300eb-58c5-45ab-d20b-e533d7b3e172"
      },
      "execution_count": 82,
      "outputs": [
        {
          "output_type": "stream",
          "name": "stdout",
          "text": [
            "Следуем правилам проезда на перекрёстке\n"
          ]
        }
      ]
    },
    {
      "cell_type": "code",
      "source": [
        "\n",
        "test.reset()\n",
        "test.factz([\n",
        "    Fact(navigator_turn_around = 'Нет')\n",
        "])\n",
        "\n",
        "test.run()"
      ],
      "metadata": {
        "colab": {
          "base_uri": "https://localhost:8080/"
        },
        "id": "w034NQi3mpHQ",
        "outputId": "d21c095e-678e-47dc-ce3a-ea3f003e3a5c"
      },
      "execution_count": 83,
      "outputs": [
        {
          "output_type": "stream",
          "name": "stdout",
          "text": [
            "Мы доехали\n"
          ]
        }
      ]
    },
    {
      "cell_type": "code",
      "source": [
        "test.reset()\n",
        "test.factz([\n",
        "    Fact(navigator_turn_around = 'Да'),\n",
        "    Fact(ban_on_turning = 'Да'),\n",
        "    Fact(one_way_traffic = 'Да')\n",
        "])\n",
        "\n",
        "test.run()"
      ],
      "metadata": {
        "colab": {
          "base_uri": "https://localhost:8080/"
        },
        "id": "KDUhe0aCm94V",
        "outputId": "99744224-f96c-4d1f-fd9c-97073650b7f8"
      },
      "execution_count": 84,
      "outputs": [
        {
          "output_type": "stream",
          "name": "stdout",
          "text": [
            "Ехать до ближайшего перекрёстка и повернуть в направлении пункта назначения\n"
          ]
        }
      ]
    }
  ]
}