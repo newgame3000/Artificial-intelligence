{
 "cells": [
  {
   "cell_type": "code",
   "execution_count": null,
   "metadata": {
    "id": "CuICd17tyhwp"
   },
   "outputs": [],
   "source": [
    "import sys"
   ]
  },
  {
   "cell_type": "code",
   "execution_count": null,
   "metadata": {
    "colab": {
     "base_uri": "https://localhost:8080/"
    },
    "id": "R1Vt3BoLMyj-",
    "outputId": "89da71c5-8107-4e9a-eaa6-0277a28481a9"
   },
   "outputs": [],
   "source": [
    "!{sys.executable} -m pip install git+https://github.com/buguroo/pyknow/"
   ]
  },
  {
   "cell_type": "code",
   "execution_count": 1,
   "metadata": {
    "id": "Qg4bNTmdymuz"
   },
   "outputs": [],
   "source": [
    "from pyknow import *"
   ]
  },
  {
   "cell_type": "code",
   "execution_count": 2,
   "metadata": {
    "id": "hT76dD-MMh-f"
   },
   "outputs": [],
   "source": [
    "class Crosswalk(KnowledgeEngine):    \n",
    "    @Rule(Fact(action = \"Проверить наличие пешеходов\"), Fact(pedestrians = \"Да\"))\n",
    "    def wait_for_pedestrian(self):\n",
    "        self.declare(Fact(final_action = \"Остановиться и дождаться, пока пешеход пройдет\"))\n",
    "        \n",
    "    @Rule(Fact(action = \"Проверить наличие пешеходов\"), NOT(Fact(pedestrians = \"Да\")))\n",
    "    def no_pedestrian(self):\n",
    "        self.declare(Fact(final_action = \"Ехать дальше без изменения скорости\"))\n",
    "        \n",
    "    @Rule(Fact(\"Пешеходный переход\"), OR(Fact(traffic_lights = \"Нет\"), NOT((Fact(traffic_lights = W())))))\n",
    "    def crosswalk(self):        \n",
    "        self.declare(Fact(final_action = \"Притормозить\"))\n",
    "        self.declare(Fact(action = \"Проверить наличие пешеходов\"))\n",
    "    \n",
    "    @Rule(Fact(final_action = MATCH.action), salience=1)\n",
    "    def maneuver(self, action):\n",
    "        print(action)"
   ]
  },
  {
   "cell_type": "code",
   "execution_count": 3,
   "metadata": {
    "colab": {
     "base_uri": "https://localhost:8080/"
    },
    "id": "Vjmd8bkNMvZo",
    "outputId": "73659b15-57f9-4e82-93ad-d5e67bb34899"
   },
   "outputs": [
    {
     "name": "stdout",
     "output_type": "stream",
     "text": [
      "Притормозить\n",
      "Остановиться и дождаться, пока пешеход пройдет\n"
     ]
    },
    {
     "data": {
      "text/plain": [
       "FactList([(0, InitialFact()),\n",
       "          (1, Fact('Пешеходный переход')),\n",
       "          (2, Fact(pedestrians='Да')),\n",
       "          (3, Fact(final_action='Притормозить')),\n",
       "          (4, Fact(action='Проверить наличие пешеходов')),\n",
       "          (5,\n",
       "           Fact(final_action='Остановиться и дождаться, пока пешеход пройдет'))])"
      ]
     },
     "execution_count": 3,
     "metadata": {},
     "output_type": "execute_result"
    }
   ],
   "source": [
    "test = Crosswalk()\n",
    "test.reset()\n",
    "test.declare(Fact(\"Пешеходный переход\"), Fact(pedestrians = \"Да\"))\n",
    "test.run()\n",
    "test.facts"
   ]
  },
  {
   "cell_type": "code",
   "execution_count": 4,
   "metadata": {
    "colab": {
     "base_uri": "https://localhost:8080/"
    },
    "id": "Vjmd8bkNMvZo",
    "outputId": "73659b15-57f9-4e82-93ad-d5e67bb34899"
   },
   "outputs": [
    {
     "name": "stdout",
     "output_type": "stream",
     "text": [
      "Притормозить\n",
      "Ехать дальше без изменения скорости\n"
     ]
    },
    {
     "data": {
      "text/plain": [
       "FactList([(0, InitialFact()),\n",
       "          (1, Fact('Пешеходный переход')),\n",
       "          (2, Fact(pedestrians='Нет')),\n",
       "          (3, Fact(final_action='Притормозить')),\n",
       "          (4, Fact(action='Проверить наличие пешеходов')),\n",
       "          (5, Fact(final_action='Ехать дальше без изменения скорости'))])"
      ]
     },
     "execution_count": 4,
     "metadata": {},
     "output_type": "execute_result"
    }
   ],
   "source": [
    "test = Crosswalk()\n",
    "test.reset()\n",
    "test.declare(Fact(\"Пешеходный переход\"), Fact(pedestrians = \"Нет\"))\n",
    "test.run()\n",
    "test.facts"
   ]
  },
  {
   "cell_type": "code",
   "execution_count": 7,
   "metadata": {},
   "outputs": [],
   "source": [
    "import re\n",
    "import inspect\n",
    "\n",
    "declaration_re = re.compile(r\"(?<=self\\.declare\\(Fact\\().*?(?=\\)\\)\\n)\")\n",
    "constants = [('FOLLOW_TRAFFIC_LIGHTS', 'Следовать сигналам светофора'),\n",
    "('NOT_MAIN_ROAD', 'Мы на второстепенной дороге'),\n",
    "('MAIN_ROAD', 'Мы на главной дороге'),\n",
    "('CHECK_RIGHT', 'Воспользоваться правилом \\\"помеха справа\\\"'),\n",
    "('ACTION_GO_LEFT', 'Повернуть налево, иначе остановиться и ждать'),\n",
    "('ACTION_GO_RIGHT', 'Повернуть направо, иначе остановиться и ждать'),\n",
    "('ACTION_GO', 'Можно ехать'),\n",
    "('ACTION_STOP', 'Остановиться и ждать'),\n",
    "('ACTION_CHECK_AND_GO', 'Уступить дорогу, если есть другие ТС, иначе можно ехать'),\n",
    "('ACTION_TURN_AROUND', 'Развернуться'),\n",
    "('ACTION_CONTINUE_DRIVING_STRAIGHT', 'Продолжать движение вперёд по правилам'),\n",
    "('ACTION_CONTINUE_DRIVING_CROSSROAD', 'Следуем правилам проезда на перекрёстке'),\n",
    "('ACTION_END', 'Мы доехали'),\n",
    "('ACTION_STRAIGHT_CROSSROAD_TURN', 'Ехать до ближайшего перекрёстка и повернуть в направлении пункта назначения'),\n",
    "('ACTION_CROSSROAD_TURN', 'Развернуться на ближайшем перекрёстке'),\n",
    "('YES', 'Да'),\n",
    "('NO', 'Нет')]\n",
    "\n",
    "def replace_constants(s):\n",
    "    for (key, value) in constants:\n",
    "        s = s.replace(key, value)\n",
    "    return s\n",
    "\n",
    "def ke2dot(engine):\n",
    "    '''Генератор схемы связей между фактами и правилами'''\n",
    "    \n",
    "    def gen_node(name, label, shape):\n",
    "        return \"\\t\\\"{}\\\" [label=\\\"{}\\\", shape={}]\\n\".format(name, label, shape)\n",
    "\n",
    "    def gen_edge(name1, name2):\n",
    "        return \"\\t\\\"{}\\\" -> \\\"{}\\\"\\n\".format(name1, name2)\n",
    "    \n",
    "    def get_id(name):\n",
    "        nonlocal facts\n",
    "        nonlocal id_\n",
    "        \n",
    "        res = facts.get(name)\n",
    "        if res is None:\n",
    "            facts[name] = id_\n",
    "            id_ += 1\n",
    "            return str(name), True\n",
    "        return str(name), False\n",
    "\n",
    "    def iterate_over_tree(node: tuple, node_id: str):\n",
    "        nonlocal result\n",
    "        nonlocal id_\n",
    "\n",
    "        for child in node:\n",
    "            node_type = str(type(child)).rsplit('.', 1)[-1][:-2]\n",
    "            if node_type == 'Fact':\n",
    "                fact = str(child).rsplit(\"Fact\", 1)[-1][1:-1].replace('\"', \"'\")\n",
    "                child_id, is_new = get_id(fact)\n",
    "                if is_new: result += gen_node(child_id, fact, \"rectangle\")\n",
    "                result += gen_edge(child_id, node_id)\n",
    "            else:\n",
    "                child_id = str(id_)\n",
    "                id_ += 1\n",
    "                result += gen_node(child_id, node_type, \"circle\")\n",
    "                result += gen_edge(child_id, node_id)\n",
    "                iterate_over_tree(child, child_id)\n",
    "\n",
    "    result = \"digraph KnowledgeEngine {\\n\\tgraph [splines=line]\\n\"\n",
    "    facts = dict()\n",
    "    id_ = 0\n",
    "\n",
    "    for rule in engine.get_rules():\n",
    "        top_node = \"\"\n",
    "        if len(rule) > 1:\n",
    "            top_node = str(id_)\n",
    "            id_ += 1\n",
    "            result += gen_node(top_node, \"AND\", \"circle\")\n",
    "            iterate_over_tree(conditionalelement.AND(*rule), top_node)\n",
    "        else:\n",
    "            node_type = str(type(rule[0])).rsplit('.', 1)[-1][:-2]\n",
    "            if node_type == \"Fact\":\n",
    "                fact = str(rule[0]).rsplit(\"Fact\", 1)[-1][1:-1].replace('\"', \"'\")\n",
    "                top_node, is_new = get_id(fact)\n",
    "                if is_new: result += gen_node(top_node, fact, \"rectangle\")\n",
    "            else:\n",
    "                top_node = str(id_)\n",
    "                id_ += 1\n",
    "                result += gen_node(top_node, node_type, \"circle\")\n",
    "                iterate_over_tree(rule[0], top_node)\n",
    "\n",
    "        funcname = rule._wrapped.__name__\n",
    "        result += gen_node(funcname, funcname, \"parallelogram\")\n",
    "        result += gen_edge(top_node, funcname)\n",
    "\n",
    "        declarations = declaration_re.findall(inspect.getsource(rule._wrapped))\n",
    "        for declaration in map(replace_constants, declarations):\n",
    "            declaration = declaration.replace('\"', \"'\").replace(\" = \", \"=\")\n",
    "            node_id, is_new = get_id(declaration)\n",
    "            if is_new: result += gen_node(node_id, declaration, \"rectangle\")\n",
    "            result += gen_edge(funcname, node_id)\n",
    "\n",
    "    result += \"}\\n\"\n",
    "    return result"
   ]
  },
  {
   "cell_type": "code",
   "execution_count": 8,
   "metadata": {},
   "outputs": [
    {
     "name": "stdout",
     "output_type": "stream",
     "text": [
      "digraph KnowledgeEngine {\n",
      "\tgraph [splines=line]\n",
      "\t\"0\" [label=\"AND\", shape=circle]\n",
      "\t\"'Пешеходный переход'\" [label=\"'Пешеходный переход'\", shape=rectangle]\n",
      "\t\"'Пешеходный переход'\" -> \"0\"\n",
      "\t\"2\" [label=\"OR\", shape=circle]\n",
      "\t\"2\" -> \"0\"\n",
      "\t\"traffic_lights='Нет'\" [label=\"traffic_lights='Нет'\", shape=rectangle]\n",
      "\t\"traffic_lights='Нет'\" -> \"2\"\n",
      "\t\"4\" [label=\"NOT\", shape=circle]\n",
      "\t\"4\" -> \"2\"\n",
      "\t\"traffic_lights=W()\" [label=\"traffic_lights=W()\", shape=rectangle]\n",
      "\t\"traffic_lights=W()\" -> \"4\"\n",
      "\t\"crosswalk\" [label=\"crosswalk\", shape=parallelogram]\n",
      "\t\"0\" -> \"crosswalk\"\n",
      "\t\"final_action='Притормозить'\" [label=\"final_action='Притормозить'\", shape=rectangle]\n",
      "\t\"crosswalk\" -> \"final_action='Притормозить'\"\n",
      "\t\"action='Проверить наличие пешеходов'\" [label=\"action='Проверить наличие пешеходов'\", shape=rectangle]\n",
      "\t\"crosswalk\" -> \"action='Проверить наличие пешеходов'\"\n",
      "\t\"final_action=W('action')\" [label=\"final_action=W('action')\", shape=rectangle]\n",
      "\t\"maneuver\" [label=\"maneuver\", shape=parallelogram]\n",
      "\t\"final_action=W('action')\" -> \"maneuver\"\n",
      "\t\"9\" [label=\"AND\", shape=circle]\n",
      "\t\"action='Проверить наличие пешеходов'\" -> \"9\"\n",
      "\t\"10\" [label=\"NOT\", shape=circle]\n",
      "\t\"10\" -> \"9\"\n",
      "\t\"pedestrians='Да'\" [label=\"pedestrians='Да'\", shape=rectangle]\n",
      "\t\"pedestrians='Да'\" -> \"10\"\n",
      "\t\"no_pedestrian\" [label=\"no_pedestrian\", shape=parallelogram]\n",
      "\t\"9\" -> \"no_pedestrian\"\n",
      "\t\"final_action='Ехать дальше без изменения скорости'\" [label=\"final_action='Ехать дальше без изменения скорости'\", shape=rectangle]\n",
      "\t\"no_pedestrian\" -> \"final_action='Ехать дальше без изменения скорости'\"\n",
      "\t\"13\" [label=\"AND\", shape=circle]\n",
      "\t\"action='Проверить наличие пешеходов'\" -> \"13\"\n",
      "\t\"pedestrians='Да'\" -> \"13\"\n",
      "\t\"wait_for_pedestrian\" [label=\"wait_for_pedestrian\", shape=parallelogram]\n",
      "\t\"13\" -> \"wait_for_pedestrian\"\n",
      "\t\"final_action='Остановиться и дождаться, пока пешеход пройдет'\" [label=\"final_action='Остановиться и дождаться, пока пешеход пройдет'\", shape=rectangle]\n",
      "\t\"wait_for_pedestrian\" -> \"final_action='Остановиться и дождаться, пока пешеход пройдет'\"\n",
      "}\n",
      "\n"
     ]
    }
   ],
   "source": [
    "print(ke2dot(test))"
   ]
  },
  {
   "cell_type": "code",
   "execution_count": null,
   "metadata": {
    "id": "yheEP-OZyxGs"
   },
   "outputs": [],
   "source": [
    "# def ask(question, answers):\n",
    "#     print(question, '(' + ', '.join(answers) + '): ', end='')\n",
    "#     ans = input()\n",
    "#     while ans not in answers:\n",
    "#         ans = input()\n",
    "#     return ans\n",
    "\n",
    "# def read_event():\n",
    "#     facts = []\n",
    "#     event = input()\n",
    "#     facts.append(Fact(event))\n",
    "#     if (event == \"пешеходный переход\"):\n",
    "#         facts.append(Fact(pedestrians = ask(\"Пешеходы?\", [\"да\", \"нет\"])))\n",
    "#     else:\n",
    "#         return None\n",
    "#     return facts"
   ]
  },
  {
   "cell_type": "code",
   "execution_count": null,
   "metadata": {
    "id": "JMVZEXeqijfh"
   },
   "outputs": [],
   "source": [
    "# # main loop\n",
    "# facts = read_event()\n",
    "# while (facts):\n",
    "#     engine.reset()\n",
    "#     engine.declare_facts(facts)\n",
    "#     engine.run()\n",
    "#     facts = read_event()"
   ]
  }
 ],
 "metadata": {
  "colab": {
   "collapsed_sections": [],
   "name": "pyknow.ipynb",
   "provenance": []
  },
  "kernelspec": {
   "display_name": "Python 3 (ipykernel)",
   "language": "python",
   "name": "python3"
  },
  "language_info": {
   "codemirror_mode": {
    "name": "ipython",
    "version": 3
   },
   "file_extension": ".py",
   "mimetype": "text/x-python",
   "name": "python",
   "nbconvert_exporter": "python",
   "pygments_lexer": "ipython3",
   "version": "3.10.2"
  }
 },
 "nbformat": 4,
 "nbformat_minor": 1
}
