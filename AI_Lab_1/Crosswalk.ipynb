{
 "cells": [
  {
   "cell_type": "code",
   "execution_count": null,
   "metadata": {
    "id": "CuICd17tyhwp"
   },
   "outputs": [],
   "source": [
    "import sys"
   ]
  },
  {
   "cell_type": "code",
   "execution_count": null,
   "metadata": {
    "colab": {
     "base_uri": "https://localhost:8080/"
    },
    "id": "R1Vt3BoLMyj-",
    "outputId": "89da71c5-8107-4e9a-eaa6-0277a28481a9"
   },
   "outputs": [],
   "source": [
    "!{sys.executable} -m pip install git+https://github.com/buguroo/pyknow/"
   ]
  },
  {
   "cell_type": "code",
   "execution_count": 2,
   "metadata": {
    "id": "Qg4bNTmdymuz"
   },
   "outputs": [],
   "source": [
    "from pyknow import *"
   ]
  },
  {
   "cell_type": "code",
   "execution_count": 3,
   "metadata": {
    "id": "hT76dD-MMh-f"
   },
   "outputs": [],
   "source": [
    "class Crosswalk(KnowledgeEngine):    \n",
    "    @Rule(Fact(action = \"Проверить наличие пешеходов\"), Fact(pedestrians = \"Да\"))\n",
    "    def wait_for_pedestrian(self):\n",
    "        self.declare(Fact(final_action = \"Остановиться и дождаться, пока пешеход пройдет\"))\n",
    "        \n",
    "    @Rule(Fact(action = \"Проверить наличие пешеходов\"), NOT(Fact(pedestrians = \"Да\")))\n",
    "    def no_pedestrian(self):\n",
    "        self.declare(Fact(final_action = \"Ехать дальше без изменения скорости\"))\n",
    "        \n",
    "    @Rule(Fact(\"Пешеходный переход\"), OR(Fact(traffic_lights = \"Нет\"), NOT((Fact(traffic_lights = W())))))\n",
    "    def crosswalk(self):        \n",
    "        self.declare(Fact(final_action = \"Притормозить\"))\n",
    "        self.declare(Fact(action = \"Проверить наличие пешеходов\"))\n",
    "    \n",
    "    @Rule(Fact(final_action = MATCH.action), salience=1)\n",
    "    def maneuver(self, action):\n",
    "        print(action)"
   ]
  },
  {
   "cell_type": "code",
   "execution_count": 4,
   "metadata": {
    "colab": {
     "base_uri": "https://localhost:8080/"
    },
    "id": "Vjmd8bkNMvZo",
    "outputId": "73659b15-57f9-4e82-93ad-d5e67bb34899"
   },
   "outputs": [
    {
     "name": "stdout",
     "output_type": "stream",
     "text": [
      "Притормозить\n",
      "Остановиться и дождаться, пока пешеход пройдет\n"
     ]
    },
    {
     "data": {
      "text/plain": [
       "FactList([(0, InitialFact()),\n",
       "          (1, Fact('Пешеходный переход')),\n",
       "          (2, Fact(pedestrians='Да')),\n",
       "          (3, Fact(final_action='Притормозить')),\n",
       "          (4, Fact(action='Проверить наличие пешеходов')),\n",
       "          (5,\n",
       "           Fact(final_action='Остановиться и дождаться, пока пешеход пройдет'))])"
      ]
     },
     "execution_count": 4,
     "metadata": {},
     "output_type": "execute_result"
    }
   ],
   "source": [
    "test = Crosswalk()\n",
    "test.reset()\n",
    "test.declare(Fact(\"Пешеходный переход\"), Fact(pedestrians = \"Да\"))\n",
    "test.run()\n",
    "test.facts"
   ]
  },
  {
   "cell_type": "code",
   "execution_count": 5,
   "metadata": {
    "colab": {
     "base_uri": "https://localhost:8080/"
    },
    "id": "Vjmd8bkNMvZo",
    "outputId": "73659b15-57f9-4e82-93ad-d5e67bb34899"
   },
   "outputs": [
    {
     "name": "stdout",
     "output_type": "stream",
     "text": [
      "Притормозить\n",
      "Ехать дальше без изменения скорости\n"
     ]
    },
    {
     "data": {
      "text/plain": [
       "FactList([(0, InitialFact()),\n",
       "          (1, Fact('Пешеходный переход')),\n",
       "          (2, Fact(pedestrians='Нет')),\n",
       "          (3, Fact(final_action='Притормозить')),\n",
       "          (4, Fact(action='Проверить наличие пешеходов')),\n",
       "          (5, Fact(final_action='Ехать дальше без изменения скорости'))])"
      ]
     },
     "execution_count": 5,
     "metadata": {},
     "output_type": "execute_result"
    }
   ],
   "source": [
    "test = Crosswalk()\n",
    "test.reset()\n",
    "test.declare(Fact(\"Пешеходный переход\"), Fact(pedestrians = \"Нет\"))\n",
    "test.run()\n",
    "test.facts"
   ]
  },
  {
   "cell_type": "code",
   "execution_count": null,
   "metadata": {
    "id": "yheEP-OZyxGs"
   },
   "outputs": [],
   "source": [
    "# def ask(question, answers):\n",
    "#     print(question, '(' + ', '.join(answers) + '): ', end='')\n",
    "#     ans = input()\n",
    "#     while ans not in answers:\n",
    "#         ans = input()\n",
    "#     return ans\n",
    "\n",
    "# def read_event():\n",
    "#     facts = []\n",
    "#     event = input()\n",
    "#     facts.append(Fact(event))\n",
    "#     if (event == \"пешеходный переход\"):\n",
    "#         facts.append(Fact(pedestrians = ask(\"Пешеходы?\", [\"да\", \"нет\"])))\n",
    "#     else:\n",
    "#         return None\n",
    "#     return facts"
   ]
  },
  {
   "cell_type": "code",
   "execution_count": null,
   "metadata": {
    "id": "JMVZEXeqijfh"
   },
   "outputs": [],
   "source": [
    "# # main loop\n",
    "# facts = read_event()\n",
    "# while (facts):\n",
    "#     engine.reset()\n",
    "#     engine.declare_facts(facts)\n",
    "#     engine.run()\n",
    "#     facts = read_event()"
   ]
  }
 ],
 "metadata": {
  "colab": {
   "collapsed_sections": [],
   "name": "pyknow.ipynb",
   "provenance": []
  },
  "kernelspec": {
   "display_name": "Python 3 (ipykernel)",
   "language": "python",
   "name": "python3"
  },
  "language_info": {
   "codemirror_mode": {
    "name": "ipython",
    "version": 3
   },
   "file_extension": ".py",
   "mimetype": "text/x-python",
   "name": "python",
   "nbconvert_exporter": "python",
   "pygments_lexer": "ipython3",
   "version": "3.10.2"
  }
 },
 "nbformat": 4,
 "nbformat_minor": 1
}
